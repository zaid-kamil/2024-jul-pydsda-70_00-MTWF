{
 "cells": [
  {
   "cell_type": "markdown",
   "metadata": {},
   "source": [
    "# Data Structure - tuple\n",
    "- indexed\n",
    "- ordered\n",
    "- `immutable`\n",
    "- heterogenous\n",
    "- duplicates are allowed\n",
    "- represented using `( )`\n",
    "- tuple() for creating tuple"
   ]
  },
  {
   "cell_type": "code",
   "execution_count": null,
   "metadata": {},
   "outputs": [],
   "source": [
    "a = (1,2,3,4) \n",
    "b = (1,) # single element tuple\n",
    "c = ('a','b','c') # tuple of strings\n",
    "d = 1,2,3,4,5,6     # packing\n",
    "print(type(a), type(b))\n",
    "print(type(c), type(d))\n",
    "print(a, b, c, d)"
   ]
  },
  {
   "cell_type": "code",
   "execution_count": null,
   "metadata": {},
   "outputs": [],
   "source": [
    "# traversing a tuple\n",
    "for i in a:\n",
    "    print(i)"
   ]
  },
  {
   "cell_type": "code",
   "execution_count": null,
   "metadata": {},
   "outputs": [],
   "source": [
    "# indexing\n",
    "print(a[0]) # 1st element\n",
    "print(a[-1]) # last element\n",
    "print(a[2]) # 3rd element"
   ]
  },
  {
   "cell_type": "code",
   "execution_count": null,
   "metadata": {},
   "outputs": [],
   "source": [
    "# slicing\n",
    "print(a[1:3]) # 2nd to 3rd element\n",
    "print(a[::-1]) # reverse"
   ]
  },
  {
   "cell_type": "markdown",
   "metadata": {},
   "source": [
    "methods in tuple:\n",
    "- count()\n",
    "- index()"
   ]
  },
  {
   "cell_type": "code",
   "execution_count": 14,
   "metadata": {},
   "outputs": [
    {
     "name": "stdout",
     "output_type": "stream",
     "text": [
      "5\n",
      "3\n",
      "5\n",
      "8\n",
      "0\n"
     ]
    }
   ],
   "source": [
    "a = 1,1,1,1,1,2,2,2,13,11,34\n",
    "print(a.count(1))\n",
    "print(a.count(2))\n",
    "print(a.index(2))\n",
    "print(a.index(13))\n",
    "print(a.index(1))"
   ]
  },
  {
   "cell_type": "markdown",
   "metadata": {},
   "source": [
    "tuple unpacking"
   ]
  },
  {
   "cell_type": "code",
   "execution_count": 24,
   "metadata": {},
   "outputs": [
    {
     "name": "stdout",
     "output_type": "stream",
     "text": [
      "1 2 3 4\n",
      "1 [2, 3, 4]\n",
      "[1, 2, 3] 4\n",
      "1 2 []\n"
     ]
    }
   ],
   "source": [
    "x = (1,2,3,4)\n",
    "a, b, c, d = x\n",
    "print(a, b, c, d)\n",
    "i, *j = x\n",
    "print(i, j)\n",
    "*i, j = x\n",
    "print(i, j)\n",
    "x = (1,2) # no error ever\n",
    "i, j, *k = x\n",
    "print(i, j, k)"
   ]
  },
  {
   "cell_type": "code",
   "execution_count": 26,
   "metadata": {},
   "outputs": [
    {
     "name": "stdout",
     "output_type": "stream",
     "text": [
      "(1, 4, 9, 16)\n"
     ]
    }
   ],
   "source": [
    "x = (1,2,3,4)\n",
    "x2 = (i**2 for i in x)\n",
    "print(tuple(x2))"
   ]
  },
  {
   "cell_type": "code",
   "execution_count": null,
   "metadata": {},
   "outputs": [],
   "source": []
  }
 ],
 "metadata": {
  "kernelspec": {
   "display_name": "base",
   "language": "python",
   "name": "python3"
  },
  "language_info": {
   "codemirror_mode": {
    "name": "ipython",
    "version": 3
   },
   "file_extension": ".py",
   "mimetype": "text/x-python",
   "name": "python",
   "nbconvert_exporter": "python",
   "pygments_lexer": "ipython3",
   "version": "3.12.2"
  }
 },
 "nbformat": 4,
 "nbformat_minor": 2
}
