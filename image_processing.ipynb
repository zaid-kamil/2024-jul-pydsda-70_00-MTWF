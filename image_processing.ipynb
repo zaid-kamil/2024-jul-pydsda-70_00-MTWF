{
 "cells": [
  {
   "cell_type": "code",
   "execution_count": 2,
   "metadata": {},
   "outputs": [],
   "source": [
    "from PIL import Image, ImageDraw, ImageFont, ImageFilter\n",
    "import numpy as np"
   ]
  },
  {
   "cell_type": "code",
   "execution_count": null,
   "metadata": {},
   "outputs": [],
   "source": [
    "# creating a 'red' image of 256x256 pixels\n",
    "red_img = Image.new('RGB', (256, 256), color='red')\n",
    "red_img"
   ]
  },
  {
   "cell_type": "code",
   "execution_count": null,
   "metadata": {},
   "outputs": [],
   "source": [
    "np.array(red_img)"
   ]
  },
  {
   "cell_type": "code",
   "execution_count": null,
   "metadata": {},
   "outputs": [],
   "source": [
    "circle = Image.new('RGBA', (256, 256), (0, 0, 0, 0))\n",
    "draw = ImageDraw.Draw(circle)\n",
    "draw.circle((128, 128), 64, fill='red')\n",
    "draw.circle((128, 128), 50, fill='green')\n",
    "circle"
   ]
  },
  {
   "cell_type": "code",
   "execution_count": 26,
   "metadata": {},
   "outputs": [],
   "source": [
    "circle.save('my_circle.png')"
   ]
  },
  {
   "cell_type": "code",
   "execution_count": null,
   "metadata": {},
   "outputs": [],
   "source": [
    "img2 = Image.open(r\"C:\\Users\\ZAID\\Pictures\\goku.jpg\")\n",
    "img2"
   ]
  },
  {
   "cell_type": "code",
   "execution_count": null,
   "metadata": {},
   "outputs": [],
   "source": [
    "print(\"Image Properties\")\n",
    "print(\"Format: \", img2.format)\n",
    "print(\"Mode: \", img2.mode)\n",
    "print(\"Size\", img2.size)\n",
    "print(\"Width: \", img2.width)\n",
    "print(\"Height: \", img2.height)\n",
    "print(\"Palette: \", img2.palette)\n",
    "print(\"Info: \", img2.info)\n",
    "print(\"Filename: \", img2.filename)"
   ]
  },
  {
   "cell_type": "markdown",
   "metadata": {},
   "source": [
    "image manipulation"
   ]
  },
  {
   "cell_type": "code",
   "execution_count": null,
   "metadata": {},
   "outputs": [],
   "source": [
    "img3 = img2.resize((256, 256))\n",
    "img3"
   ]
  },
  {
   "cell_type": "code",
   "execution_count": null,
   "metadata": {},
   "outputs": [],
   "source": [
    "img3.rotate(45)"
   ]
  },
  {
   "cell_type": "code",
   "execution_count": null,
   "metadata": {},
   "outputs": [],
   "source": [
    "img3.rotate(45, fillcolor='white')"
   ]
  },
  {
   "cell_type": "code",
   "execution_count": null,
   "metadata": {},
   "outputs": [],
   "source": [
    "img3.rotate(-45, fillcolor='white', expand=True)"
   ]
  },
  {
   "cell_type": "code",
   "execution_count": null,
   "metadata": {},
   "outputs": [],
   "source": [
    "img3.transpose(Image.Transpose.FLIP_LEFT_RIGHT)"
   ]
  },
  {
   "cell_type": "code",
   "execution_count": 58,
   "metadata": {},
   "outputs": [],
   "source": [
    "# concatenating images\n",
    "img4 = Image.new('RGB', (512, 512))\n",
    "img4.paste(img3.rotate(45, fillcolor='white'), (0, 256))\n",
    "img4.paste(img3.rotate(-45, fillcolor='white'), (256, 256))\n",
    "img4.paste(img3.transpose(Image.Transpose.FLIP_LEFT_RIGHT), (256, 0))\n",
    "img4.paste(img3, (0, 0))\n",
    "img4.save('goku_collage.png')"
   ]
  },
  {
   "cell_type": "code",
   "execution_count": null,
   "metadata": {},
   "outputs": [],
   "source": [
    "# blending images\n",
    "Image.blend(\n",
    "    red_img,\n",
    "    img3,\n",
    "    alpha=0.5\n",
    ")"
   ]
  },
  {
   "cell_type": "code",
   "execution_count": null,
   "metadata": {},
   "outputs": [],
   "source": [
    "a = Image.open(r\"C:\\Users\\ZAID\\Pictures\\goku.jpg\")\n",
    "b = Image.open(r\"C:\\Users\\ZAID\\Pictures\\luffy.jpg\")\n",
    "print(a.size, b.size)\n",
    "print(a.mode, b.mode)\n",
    "c = Image.blend(a, b, alpha=0.4)\n",
    "c.show()"
   ]
  },
  {
   "cell_type": "code",
   "execution_count": null,
   "metadata": {},
   "outputs": [],
   "source": [
    "a.convert('RGBA') # convert to RGBA mode"
   ]
  },
  {
   "cell_type": "code",
   "execution_count": null,
   "metadata": {},
   "outputs": [],
   "source": [
    "d = Image.new('RGB', (1024, 1024), 'blue')\n",
    "Image.blend(a, d, alpha=0.5).resize((256, 256))"
   ]
  },
  {
   "cell_type": "code",
   "execution_count": null,
   "metadata": {},
   "outputs": [],
   "source": [
    "# when sizes or mode mismatch\n",
    "a = Image.open(r\"C:\\Users\\ZAID\\Pictures\\goku.jpg\")\n",
    "b = Image.open(r\"C:\\Users\\ZAID\\Pictures\\Picture5.png\")\n",
    "b = b.resize(a.size)\n",
    "b = b.convert(a.mode)\n",
    "print(a.size, b.size)\n",
    "print(a.mode, b.mode)\n",
    "Image.blend(a, b, alpha=0.5).resize((512, 512)).show()"
   ]
  },
  {
   "cell_type": "markdown",
   "metadata": {},
   "source": [
    "filtering"
   ]
  },
  {
   "cell_type": "code",
   "execution_count": 99,
   "metadata": {},
   "outputs": [],
   "source": [
    "a = a.resize((300,300))\n",
    "blur = a.filter(ImageFilter.BLUR)\n",
    "outline = a.filter(ImageFilter.CONTOUR)\n",
    "emboss = a.filter(ImageFilter.EMBOSS)\n",
    "light = a.filter(ImageFilter.MaxFilter())\n",
    "dark = a.filter(ImageFilter.MinFilter())\n",
    "sharpen = a.filter(ImageFilter.SHARPEN)\n",
    "blur.show()\n",
    "outline.show()\n",
    "emboss.show()\n",
    "light.show()\n",
    "dark.show()\n",
    "sharpen.show()"
   ]
  },
  {
   "cell_type": "markdown",
   "metadata": {},
   "source": [
    "adding text to image"
   ]
  },
  {
   "cell_type": "code",
   "execution_count": 109,
   "metadata": {},
   "outputs": [],
   "source": [
    "circle = Image.new('RGBA', (256, 256), (0, 0, 0, 0))\n",
    "draw = ImageDraw.Draw(circle)\n",
    "draw.circle((128, 128), 64, fill='red')\n",
    "draw.circle((128, 128), 50, fill='green')\n",
    "font = ImageFont.load_default(size=75)\n",
    "draw.text((128, 128), 'Hi!', font=font, fill='white', anchor='mm')\n",
    "circle.save('my_circle_2.png')"
   ]
  },
  {
   "cell_type": "code",
   "execution_count": null,
   "metadata": {},
   "outputs": [],
   "source": []
  }
 ],
 "metadata": {
  "kernelspec": {
   "display_name": "base",
   "language": "python",
   "name": "python3"
  },
  "language_info": {
   "codemirror_mode": {
    "name": "ipython",
    "version": 3
   },
   "file_extension": ".py",
   "mimetype": "text/x-python",
   "name": "python",
   "nbconvert_exporter": "python",
   "pygments_lexer": "ipython3",
   "version": "3.12.2"
  }
 },
 "nbformat": 4,
 "nbformat_minor": 2
}
