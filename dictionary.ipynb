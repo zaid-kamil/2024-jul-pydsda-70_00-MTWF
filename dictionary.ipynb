{
 "cells": [
  {
   "cell_type": "markdown",
   "metadata": {},
   "source": [
    "# Data structures - dictionary\n",
    "- ordered\n",
    "- mutable\n",
    "- key-value pairs (unindexed)\n",
    "- keys are unique\n",
    "- values can be any data type\n",
    "- keys should be immutable (`int`, `float`, `string`, `tuple`)\n",
    "- keys are case-sensitive\n",
    "- represented with `{ }`\n",
    "- `dict()` is used to make dictionary\n"
   ]
  },
  {
   "cell_type": "code",
   "execution_count": null,
   "metadata": {},
   "outputs": [],
   "source": [
    "a = {} # empty dictionary\n",
    "b = {'apples': 50, 'oranges': 25}\n",
    "c = dict(almond=200, cashew=100)\n",
    "print(a, b, c)"
   ]
  },
  {
   "cell_type": "code",
   "execution_count": null,
   "metadata": {},
   "outputs": [],
   "source": [
    "d = {\"k1\": {\n",
    "        \"k11\": 5, \n",
    "        \"k12\": 10\n",
    "    },\n",
    "    \"k2\": {\n",
    "        \"k21\": 15,\n",
    "        \"k22\": 20\n",
    "    }}\n",
    "print(d)"
   ]
  },
  {
   "cell_type": "code",
   "execution_count": null,
   "metadata": {},
   "outputs": [],
   "source": [
    "# retrieve values\n",
    "print(b['apples']) # direct access\n",
    "# print(b['apple'])\n",
    "print(b.get('apple'))\n",
    "print(b.get('apple', 'not found')) # default value\n",
    "print(b.get('apples')) \n",
    "print(b.get('apples', 'not found')) # default value"
   ]
  },
  {
   "cell_type": "code",
   "execution_count": null,
   "metadata": {},
   "outputs": [],
   "source": [
    "# add/update values\n",
    "b['mango'] = 10 # add\n",
    "b['dates'] = 5  # add \n",
    "b['peach'] = 10 # add\n",
    "b['apples'] = 50 # update (existing key used)\n",
    "print(b)"
   ]
  },
  {
   "cell_type": "code",
   "execution_count": null,
   "metadata": {},
   "outputs": [],
   "source": [
    "# remove\n",
    "b.pop('mango')\n",
    "print(b)"
   ]
  },
  {
   "cell_type": "code",
   "execution_count": null,
   "metadata": {},
   "outputs": [],
   "source": [
    "# traversal \n",
    "# style 1 \n",
    "for key in b:\n",
    "    print(key, b[key])\n",
    "\n",
    "# style 2\n",
    "for k, v in b.items():\n",
    "    print(k, v)\n",
    "\n",
    "# style 3\n",
    "for v in b.values():\n",
    "    print(v)"
   ]
  },
  {
   "cell_type": "code",
   "execution_count": 25,
   "metadata": {},
   "outputs": [
    {
     "data": {
      "text/plain": [
       "dict_keys(['apples', 'oranges', 'dates', 'peach'])"
      ]
     },
     "execution_count": 25,
     "metadata": {},
     "output_type": "execute_result"
    }
   ],
   "source": [
    "b.keys()"
   ]
  },
  {
   "cell_type": "code",
   "execution_count": null,
   "metadata": {},
   "outputs": [],
   "source": []
  }
 ],
 "metadata": {
  "kernelspec": {
   "display_name": "base",
   "language": "python",
   "name": "python3"
  },
  "language_info": {
   "codemirror_mode": {
    "name": "ipython",
    "version": 3
   },
   "file_extension": ".py",
   "mimetype": "text/x-python",
   "name": "python",
   "nbconvert_exporter": "python",
   "pygments_lexer": "ipython3",
   "version": "3.12.2"
  }
 },
 "nbformat": 4,
 "nbformat_minor": 2
}
