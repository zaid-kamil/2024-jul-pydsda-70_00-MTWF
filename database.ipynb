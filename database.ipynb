{
 "cells": [
  {
   "cell_type": "markdown",
   "metadata": {},
   "source": [
    "`pip install sqlalchemy`"
   ]
  },
  {
   "cell_type": "markdown",
   "metadata": {},
   "source": [
    "step 1 - setup up the database and its tables"
   ]
  },
  {
   "cell_type": "code",
   "execution_count": 5,
   "metadata": {},
   "outputs": [],
   "source": [
    "from sqlalchemy import create_engine\n",
    "from sqlalchemy.orm import sessionmaker, declarative_base\n",
    "from sqlalchemy import Column, Integer, String, Boolean"
   ]
  },
  {
   "cell_type": "code",
   "execution_count": 6,
   "metadata": {},
   "outputs": [],
   "source": [
    "Base = declarative_base() # create a base class for table Models"
   ]
  },
  {
   "cell_type": "code",
   "execution_count": 7,
   "metadata": {},
   "outputs": [],
   "source": [
    "class Report(Base):\n",
    "    __tablename__ = 'reports'\n",
    "    id = Column(Integer, primary_key=True)\n",
    "    name = Column(String(25))\n",
    "    eng = Column(Integer)\n",
    "    math = Column(Integer)\n",
    "    sci = Column(Integer)\n",
    "    hin = Column(Integer)\n",
    "    is_passed = Column(Boolean)"
   ]
  },
  {
   "cell_type": "code",
   "execution_count": 8,
   "metadata": {},
   "outputs": [],
   "source": [
    "# create a database engine\n",
    "# syntax\n",
    "# create_engine('driver:///databaseconnection')\n",
    "engine = create_engine('sqlite:///school.db')\n",
    "Base.metadata.create_all(engine)"
   ]
  },
  {
   "cell_type": "markdown",
   "metadata": {},
   "source": [
    "step 2: creating a connection"
   ]
  },
  {
   "cell_type": "code",
   "execution_count": 9,
   "metadata": {},
   "outputs": [],
   "source": [
    "def opendb():\n",
    "    engine = create_engine('sqlite:///school.db')\n",
    "    Session = sessionmaker(bind=engine)\n",
    "    session = Session()\n",
    "    return session"
   ]
  },
  {
   "cell_type": "markdown",
   "metadata": {},
   "source": [
    "step 3: Storing Data"
   ]
  },
  {
   "cell_type": "code",
   "execution_count": null,
   "metadata": {},
   "outputs": [],
   "source": [
    "name = input('Enter name: ')\n",
    "eng = int(input('Enter english marks: '))\n",
    "math = int(input('Enter math marks: '))\n",
    "sci = int(input('Enter science marks: '))\n",
    "hin = int(input('Enter hindi marks: '))\n",
    "total = eng + math + sci + hin\n",
    "perc = total / 400 * 100\n",
    "is_passed = perc >= 40\n",
    "db = opendb()\n",
    "report = Report(name=name, eng=eng, math=math, sci=sci,\n",
    "    hin=hin, is_passed=is_passed)\n",
    "db.add(report)\n",
    "db.commit()\n",
    "db.close()\n",
    "print('Report added successfully')"
   ]
  },
  {
   "cell_type": "markdown",
   "metadata": {},
   "source": [
    "step 4 - retrieving data"
   ]
  },
  {
   "cell_type": "code",
   "execution_count": null,
   "metadata": {},
   "outputs": [],
   "source": [
    "db = opendb()\n",
    "reports = db.query(Report).all()\n",
    "db.close()\n",
    "\n",
    "for item in reports:\n",
    "    print(item.id, item.name)\n",
    "    print(f\"{item.eng}, {item.math}, {item.sci}, {item.hin}\")\n",
    "    print(\"Passed\" if item.is_passed else \"Failed\")"
   ]
  },
  {
   "cell_type": "markdown",
   "metadata": {},
   "source": [
    "step 5 - removing data"
   ]
  },
  {
   "cell_type": "code",
   "execution_count": null,
   "metadata": {},
   "outputs": [],
   "source": [
    "id = 2\n",
    "db = opendb()\n",
    "db.query(Report).filter(Report.id == id).delete()\n",
    "db.commit()\n",
    "db.close()\n",
    "print('Report deleted successfully')"
   ]
  },
  {
   "cell_type": "markdown",
   "metadata": {},
   "source": [
    "step 6 - searching data"
   ]
  },
  {
   "cell_type": "code",
   "execution_count": null,
   "metadata": {},
   "outputs": [],
   "source": [
    "eng_marks = 75\n",
    "db = opendb()\n",
    "reports = db.query(Report).filter(Report.eng >= eng_marks).all() \n",
    "db.close()\n",
    "for item in reports:\n",
    "    print(f\"{item.id} {item.name} {item.is_passed}\")  "
   ]
  },
  {
   "cell_type": "code",
   "execution_count": null,
   "metadata": {},
   "outputs": [],
   "source": [
    "id = 2\n",
    "db = opendb()\n",
    "report = db.query(Report).filter(Report.id == id).first()\n",
    "db.close()\n",
    "if report:\n",
    "    print(report.name, report.is_passed)\n",
    "else:\n",
    "    print(\"details not found\")"
   ]
  },
  {
   "cell_type": "code",
   "execution_count": null,
   "metadata": {},
   "outputs": [],
   "source": [
    "name = 'i'\n",
    "db = opendb()\n",
    "report = db.query(Report).filter(Report.name.like(f'%{name}%')).all()\n",
    "db.close()\n",
    "for item in report:\n",
    "    print(item.id, item.name)"
   ]
  },
  {
   "cell_type": "markdown",
   "metadata": {},
   "source": [
    "step 7 - updating data"
   ]
  },
  {
   "cell_type": "code",
   "execution_count": null,
   "metadata": {},
   "outputs": [],
   "source": [
    "id = 5\n",
    "db = opendb()\n",
    "report = db.query(Report).filter(Report.id == id).first()\n",
    "if report:\n",
    "    report.eng =  60\n",
    "    report.math = 60\n",
    "    report.is_passed = True\n",
    "    db.commit()\n",
    "    print('Report updated successfully')\n",
    "db.close()"
   ]
  },
  {
   "cell_type": "code",
   "execution_count": null,
   "metadata": {},
   "outputs": [],
   "source": []
  }
 ],
 "metadata": {
  "kernelspec": {
   "display_name": "base",
   "language": "python",
   "name": "python3"
  },
  "language_info": {
   "codemirror_mode": {
    "name": "ipython",
    "version": 3
   },
   "file_extension": ".py",
   "mimetype": "text/x-python",
   "name": "python",
   "nbconvert_exporter": "python",
   "pygments_lexer": "ipython3",
   "version": "3.12.2"
  }
 },
 "nbformat": 4,
 "nbformat_minor": 2
}
