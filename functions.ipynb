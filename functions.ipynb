{
 "cells": [
  {
   "cell_type": "markdown",
   "metadata": {},
   "source": [
    "functions \n",
    "1. predefined function\n",
    "   1. built-in function (directly available)\n",
    "   2. module function (need to import)\n",
    "      1. python standard library\n",
    "      2. 3rd party library (`pip install library`)\n",
    "2. user defined function\n",
    "   1. non-parameterized\n",
    "   2. function with return types\n",
    "   3. parameterized\n",
    "      1. required parameter\n",
    "      2. named argument\n",
    "      3. default parameter\n",
    "      4. variable length argument\n",
    "      5. keyword variable length argument\n",
    "   4. Anonymous function (lambda function)\n",
    "   5. Generator function"
   ]
  },
  {
   "cell_type": "code",
   "execution_count": null,
   "metadata": {},
   "outputs": [],
   "source": [
    "# builtin functions\n",
    "# print()\n",
    "# input()\n",
    "# int()\n",
    "# str()\n",
    "# list()\n",
    "# dict()\n",
    "# tuple()\n",
    "# open()\n",
    "# range()\n",
    "# len()\n",
    "# max()\n",
    "# min()\n",
    "help(max)"
   ]
  },
  {
   "cell_type": "code",
   "execution_count": null,
   "metadata": {},
   "outputs": [],
   "source": [
    "eval(\"2 + 3\")"
   ]
  },
  {
   "cell_type": "code",
   "execution_count": null,
   "metadata": {},
   "outputs": [],
   "source": [
    "x = 5\n",
    "eq = input('give me an equation for x')\n",
    "eval(eq)"
   ]
  },
  {
   "cell_type": "markdown",
   "metadata": {},
   "source": [
    "`open()` for file handling"
   ]
  },
  {
   "cell_type": "code",
   "execution_count": null,
   "metadata": {},
   "outputs": [],
   "source": [
    "print(open('dictionary.ipynb').read())"
   ]
  },
  {
   "cell_type": "code",
   "execution_count": null,
   "metadata": {},
   "outputs": [],
   "source": [
    "with open('hello.py') as file:\n",
    "    content = file.read()\n",
    "print(content)"
   ]
  },
  {
   "cell_type": "code",
   "execution_count": null,
   "metadata": {},
   "outputs": [],
   "source": [
    "# 'w' refers to write mode\n",
    "with open('story.txt','w') as f:\n",
    "    f.write('Once upon a time in a land far far away\\n')\n",
    "    f.write('There lived a king who was a good king\\n')\n",
    "    f.write('He was loved by all his subjects\\n')"
   ]
  },
  {
   "cell_type": "code",
   "execution_count": null,
   "metadata": {},
   "outputs": [],
   "source": [
    "# 'a' refers to append mode\n",
    "with open('story.txt', 'a') as f:\n",
    "    f.write('But he had a secret\\n')\n",
    "    f.write('He was a wizard\\n')\n",
    "    f.write('He could do magic\\n')"
   ]
  },
  {
   "cell_type": "code",
   "execution_count": null,
   "metadata": {},
   "outputs": [],
   "source": [
    "with open('story.txt') as f:\n",
    "    content = f.read()\n",
    "    print(content)"
   ]
  },
  {
   "cell_type": "code",
   "execution_count": null,
   "metadata": {},
   "outputs": [],
   "source": [
    "# python standard library\n",
    "import random\n",
    "\n",
    "for i in range(10):\n",
    "    ans = random.randint(1, 10) # 1 <= x <= 10\n",
    "    print(ans)"
   ]
  },
  {
   "cell_type": "code",
   "execution_count": null,
   "metadata": {},
   "outputs": [],
   "source": [
    "fruits = ['apple', 'banana', 'cherry']\n",
    "for i in range(10):\n",
    "    print(random.choice(fruits))"
   ]
  },
  {
   "cell_type": "code",
   "execution_count": null,
   "metadata": {},
   "outputs": [],
   "source": [
    "x = [1, 2, 3, 4, 5, 6, 7, 8, 9, 10]\n",
    "print(random.choices(x, k=3))\n",
    "print(random.sample(x, k=5))\n",
    "random.shuffle(x)\n",
    "print(x)"
   ]
  },
  {
   "cell_type": "code",
   "execution_count": null,
   "metadata": {},
   "outputs": [],
   "source": [
    "from datetime import datetime"
   ]
  },
  {
   "cell_type": "code",
   "execution_count": null,
   "metadata": {},
   "outputs": [],
   "source": [
    "# 12/12/2012\n",
    "doomsday = datetime(2012, 12, 12)\n",
    "print(doomsday)\n",
    "# 10:05\n",
    "time = datetime(1970, 1, 1, 10, 5)\n",
    "print(time)\n",
    "currDay = datetime.now()\n",
    "print(currDay)\n",
    "timestamp = datetime.timestamp(currDay)\n",
    "print(timestamp) # seconds since epoch (1970)\n",
    "print(datetime.fromtimestamp(29123901202))\n",
    "\n",
    "from datetime import timedelta\n",
    "\n",
    "today = datetime.now()\n",
    "print(today)\n",
    "print(today + timedelta(days=100))\n",
    "\n",
    "# format tiime\n",
    "print(today.date())\n",
    "print(today.time())\n",
    "\n",
    "# strftime\n",
    "print(today.strftime(\"%d/%m/%Y\"))\n",
    "print(today.strftime(\"%H:%M\"))"
   ]
  },
  {
   "cell_type": "code",
   "execution_count": null,
   "metadata": {},
   "outputs": [],
   "source": [
    "# os module\n",
    "import os\n",
    "BASE_DIR = os.getcwd()\n",
    "print(BASE_DIR)"
   ]
  },
  {
   "cell_type": "code",
   "execution_count": null,
   "metadata": {},
   "outputs": [],
   "source": [
    "print(os.listdir())"
   ]
  },
  {
   "cell_type": "code",
   "execution_count": null,
   "metadata": {},
   "outputs": [],
   "source": [
    "# delete file\n",
    "os.unlink('story.txt')\n",
    "print(os.listdir())"
   ]
  },
  {
   "cell_type": "code",
   "execution_count": null,
   "metadata": {},
   "outputs": [],
   "source": [
    "content = os.listdir(\"c:/program files\") # \"/usr/bin\"\n",
    "print(f\"total content is {len(content)}\")"
   ]
  },
  {
   "cell_type": "code",
   "execution_count": null,
   "metadata": {},
   "outputs": [],
   "source": [
    "content = os.listdir(\"c:/users/zaid/Downloads\") # \"/home/zaid/Downloads\"\n",
    "print(f\"total content is {len(content)}\")"
   ]
  },
  {
   "cell_type": "code",
   "execution_count": null,
   "metadata": {},
   "outputs": [],
   "source": [
    "for item in content:\n",
    "    path = \"c:/users/zaid/Downloads/\"+item\n",
    "    print(item.ljust(50), os.path.isfile(path))"
   ]
  },
  {
   "cell_type": "code",
   "execution_count": null,
   "metadata": {},
   "outputs": [],
   "source": [
    "address = \"c:/users/abc/pictures\"\n",
    "if os.path.exists(address):\n",
    "    print(\"path exists\")\n",
    "else:\n",
    "    print(\"path does not exist\")"
   ]
  },
  {
   "cell_type": "code",
   "execution_count": null,
   "metadata": {},
   "outputs": [],
   "source": [
    "if not os.path.exists('folder1'):\n",
    "    os.mkdir(\"folder1\")"
   ]
  },
  {
   "cell_type": "code",
   "execution_count": null,
   "metadata": {},
   "outputs": [],
   "source": [
    "os.makedirs('folder1/folder2/folder3', exist_ok=True)"
   ]
  },
  {
   "cell_type": "code",
   "execution_count": null,
   "metadata": {},
   "outputs": [],
   "source": [
    "for item in content:\n",
    "    path = \"c:/users/zaid/Downloads/\"+item\n",
    "    size =  os.path.getsize(path)/1024 # kilobytes\n",
    "    print(item[:49].ljust(50), str(os.path.isfile(path)).ljust(10), size)"
   ]
  },
  {
   "cell_type": "markdown",
   "metadata": {},
   "source": [
    "# user defined function\n",
    "- resuable code\n",
    "- easy to debug\n",
    "- make code verbose"
   ]
  },
  {
   "cell_type": "code",
   "execution_count": null,
   "metadata": {},
   "outputs": [],
   "source": [
    "# declaration\n",
    "def calculate_area(length, width):\n",
    "    area = length * width\n",
    "    return area"
   ]
  },
  {
   "cell_type": "code",
   "execution_count": null,
   "metadata": {},
   "outputs": [],
   "source": [
    "# use == call\n",
    "calculate_area(100, 50)"
   ]
  },
  {
   "cell_type": "markdown",
   "metadata": {},
   "source": [
    "types of function\n",
    "1. non-parameterized\n",
    "2. on basis of return tyoe \n",
    "   1. non-return type\n",
    "   2. return type\n",
    "3. on the basis of parameters\n",
    "   1. required parameter\n",
    "   2. default parameter\n",
    "   3. variable length argument\n",
    "   4. keyword variable length argument\n",
    "4. Anonymous function (lambda function)"
   ]
  },
  {
   "cell_type": "code",
   "execution_count": null,
   "metadata": {},
   "outputs": [],
   "source": [
    "def roll_dice():\n",
    "    import random\n",
    "    print(f\"Rolled {random.randint(1, 6)}\")"
   ]
  },
  {
   "cell_type": "code",
   "execution_count": null,
   "metadata": {},
   "outputs": [],
   "source": [
    "roll_dice()\n",
    "roll_dice()\n",
    "roll_dice()"
   ]
  },
  {
   "cell_type": "code",
   "execution_count": null,
   "metadata": {},
   "outputs": [],
   "source": [
    "def count_files_in_current_folder():\n",
    "    import os\n",
    "    size = len(os.listdir())\n",
    "    print(f\"Folder: {os.getcwd().split('\\\\')[-1]}\")\n",
    "    print(f\"Total files n folder: {size}\")"
   ]
  },
  {
   "cell_type": "code",
   "execution_count": null,
   "metadata": {},
   "outputs": [],
   "source": [
    "count_files_in_current_folder()"
   ]
  },
  {
   "cell_type": "code",
   "execution_count": null,
   "metadata": {},
   "outputs": [],
   "source": [
    "s = len(\"hello\")\n",
    "print(s)\n",
    "\n",
    "c = count_files_in_current_folder()\n",
    "print(c)"
   ]
  },
  {
   "cell_type": "code",
   "execution_count": null,
   "metadata": {},
   "outputs": [],
   "source": [
    "def word_count(sentence):\n",
    "    words = sentence.split()\n",
    "    return len(words)"
   ]
  },
  {
   "cell_type": "code",
   "execution_count": null,
   "metadata": {},
   "outputs": [],
   "source": [
    "count = word_count(\"Hi There, How are you doing?\")\n",
    "print(count)\n",
    "count2 = word_count(\"We are learning python\")\n",
    "print(count2)\n",
    "print(count + count2)"
   ]
  },
  {
   "cell_type": "code",
   "execution_count": null,
   "metadata": {},
   "outputs": [],
   "source": [
    "def area_of_circle(radius):\n",
    "    import math\n",
    "    area = math.pi * radius ** 2\n",
    "    return area\n",
    "\n",
    "print(area_of_circle(5) + area_of_circle(10))"
   ]
  },
  {
   "cell_type": "code",
   "execution_count": null,
   "metadata": {},
   "outputs": [],
   "source": [
    "def task(items, action):\n",
    "    if action == 'count':\n",
    "        return len(items)   # return\n",
    "    elif action == 'sum':\n",
    "        return sum(items)   # return\n",
    "    elif action == 'mean':\n",
    "        return sum(items)/len(items)  # return\n",
    "    else:\n",
    "        return \"Invalid action\"    "
   ]
  },
  {
   "cell_type": "code",
   "execution_count": null,
   "metadata": {},
   "outputs": [],
   "source": [
    "t1 = task([23,45,56], 'count')\n",
    "t2 = task([23,45,56], 'sum')\n",
    "print(t1, t2)"
   ]
  },
  {
   "cell_type": "code",
   "execution_count": null,
   "metadata": {},
   "outputs": [],
   "source": [
    "def get_stats(numList):\n",
    "    size = len(numList)\n",
    "    total = sum(numList)\n",
    "    mean = total/size\n",
    "    mx = max(numList)\n",
    "    mn = min(numList)   \n",
    "    return size, total, mean, mx, mn"
   ]
  },
  {
   "cell_type": "code",
   "execution_count": null,
   "metadata": {},
   "outputs": [],
   "source": [
    "get_stats([1,3,5,6,1])"
   ]
  },
  {
   "cell_type": "code",
   "execution_count": null,
   "metadata": {},
   "outputs": [],
   "source": [
    "def get_stats(numList):\n",
    "    size = len(numList)\n",
    "    total = sum(numList)\n",
    "    mean = total/size\n",
    "    mx = max(numList)\n",
    "    mn = min(numList)   \n",
    "    return {\n",
    "        'size': size, 'total': total,\n",
    "        'mean': mean, 'max': mx, 'min': mn   \n",
    "    }"
   ]
  },
  {
   "cell_type": "code",
   "execution_count": null,
   "metadata": {},
   "outputs": [],
   "source": [
    "get_stats([1,3,5,6,1])"
   ]
  },
  {
   "cell_type": "code",
   "execution_count": null,
   "metadata": {},
   "outputs": [],
   "source": [
    "def adder(a, b, c):\n",
    "    return a + b + c"
   ]
  },
  {
   "cell_type": "code",
   "execution_count": null,
   "metadata": {},
   "outputs": [],
   "source": [
    "print(adder(2, 1, 2))\n",
    "print(adder(b=10, a=5, c=10))\n",
    "print(adder(c=10, b=5, a=10))"
   ]
  },
  {
   "cell_type": "code",
   "execution_count": null,
   "metadata": {},
   "outputs": [],
   "source": [
    "def adder_v2(a, b, c=10):\n",
    "    return a + b + c"
   ]
  },
  {
   "cell_type": "code",
   "execution_count": null,
   "metadata": {},
   "outputs": [],
   "source": [
    "print(adder_v2(10, 20))\n",
    "print(adder_v2(10, 20, 20))\n",
    "print(adder_v2(10, 21, c=16))\n",
    "print(adder_v2(a=10, b=22, c=50))"
   ]
  },
  {
   "cell_type": "markdown",
   "metadata": {},
   "source": [
    "advance parameter\n",
    "- variable arguments\n",
    "- keyword variable arguments\n"
   ]
  },
  {
   "cell_type": "code",
   "execution_count": null,
   "metadata": {},
   "outputs": [],
   "source": [
    "def multiply(*nums):\n",
    "    print(nums)\n",
    "    print(\"size:\",len(nums))"
   ]
  },
  {
   "cell_type": "code",
   "execution_count": null,
   "metadata": {},
   "outputs": [],
   "source": [
    "multiply(1,2,3,4,1,1,1,2,2)"
   ]
  },
  {
   "cell_type": "code",
   "execution_count": null,
   "metadata": {},
   "outputs": [],
   "source": [
    "print()\n",
    "print('apple')\n",
    "print('apple',1,2,3)\n",
    "print(1,2,3,5,5,4,5,4,32,2,2,2,2)"
   ]
  },
  {
   "cell_type": "code",
   "execution_count": null,
   "metadata": {},
   "outputs": [],
   "source": [
    "def getlength(*args):\n",
    "    result = []\n",
    "    for item in args:\n",
    "        result.append(len(item))\n",
    "    return result"
   ]
  },
  {
   "cell_type": "code",
   "execution_count": null,
   "metadata": {},
   "outputs": [],
   "source": [
    "getlength('apple','banana','cherry','word')"
   ]
  },
  {
   "cell_type": "code",
   "execution_count": null,
   "metadata": {},
   "outputs": [],
   "source": [
    "# **kwargs -> variable length keyword arguments\n",
    "def calc_expense(**data):\n",
    "    print(data) # dictionary\n",
    "    print(len(data))"
   ]
  },
  {
   "cell_type": "code",
   "execution_count": null,
   "metadata": {},
   "outputs": [],
   "source": [
    "calc_expense(a=100,b=200,c=300)"
   ]
  },
  {
   "cell_type": "code",
   "execution_count": null,
   "metadata": {},
   "outputs": [],
   "source": [
    "# **kwargs should be the last parameter\n",
    "def laptop_info(filename='laptop.txt', **specs, ):\n",
    "    with open(filename, 'w') as f:\n",
    "        for key, value in specs.items():\n",
    "            f.write(f\"{key}: {value}\\n\")\n",
    "        print(\"Specs Saved\")\n"
   ]
  },
  {
   "cell_type": "code",
   "execution_count": null,
   "metadata": {},
   "outputs": [],
   "source": [
    "laptop_info(\"old_laptop.txt\", brand='lenovo', \n",
    "            model='ideapad', ram='4Gb', os='linux')\n",
    "laptop_info(\"new_laptop.txt\",\n",
    "            model=\"legion 5 Pro\",\n",
    "            ram=\"16Gb\",\n",
    "            graphics=\"RTX 3060\",\n",
    "            storage=\"1Tb SSD\",\n",
    "            brand=\"Lenovo\",\n",
    "            os=\"Windows 11\")\n",
    "laptop_info()"
   ]
  },
  {
   "cell_type": "markdown",
   "metadata": {},
   "source": [
    "anonymous function\n",
    "```\n",
    "f(x) = x**2 + 10\n",
    "```\n",
    "```\n",
    "f(5)\n",
    "```"
   ]
  },
  {
   "cell_type": "code",
   "execution_count": null,
   "metadata": {},
   "outputs": [],
   "source": [
    "f = lambda x: x**2 + 10\n",
    "print(f)"
   ]
  },
  {
   "cell_type": "code",
   "execution_count": null,
   "metadata": {},
   "outputs": [],
   "source": [
    "f(12)"
   ]
  },
  {
   "cell_type": "markdown",
   "metadata": {},
   "source": [
    "```\n",
    "g(a,b) = a + b + a * b / 2\n",
    "```"
   ]
  },
  {
   "cell_type": "code",
   "execution_count": null,
   "metadata": {},
   "outputs": [],
   "source": [
    "g = lambda a, b: a+b + a*b/2\n",
    "g(10, 20)"
   ]
  },
  {
   "cell_type": "markdown",
   "metadata": {},
   "source": [
    "map and filter function with lambda function"
   ]
  },
  {
   "cell_type": "code",
   "execution_count": null,
   "metadata": {},
   "outputs": [],
   "source": [
    "data = ['1','5','7']\n",
    "map(int, data) # lazy object"
   ]
  },
  {
   "cell_type": "code",
   "execution_count": 49,
   "metadata": {},
   "outputs": [],
   "source": [
    "result = [int(i) for i in data] # same comprehension"
   ]
  },
  {
   "cell_type": "code",
   "execution_count": null,
   "metadata": {},
   "outputs": [],
   "source": [
    "data = ['1','5','7']\n",
    "list(map(int, data)) # lazy object -> list"
   ]
  },
  {
   "cell_type": "code",
   "execution_count": null,
   "metadata": {},
   "outputs": [],
   "source": [
    "data = [1,2,5,6,19,54,32]\n",
    "list(map(lambda n: n**2, data))"
   ]
  },
  {
   "cell_type": "code",
   "execution_count": null,
   "metadata": {},
   "outputs": [],
   "source": [
    "for i in map(lambda n: n**2, data):\n",
    "    print(i)"
   ]
  },
  {
   "cell_type": "markdown",
   "metadata": {},
   "source": [
    "generator"
   ]
  },
  {
   "cell_type": "code",
   "execution_count": null,
   "metadata": {},
   "outputs": [],
   "source": [
    "def getlength(*args):\n",
    "    for item in args:\n",
    "        yield len(item)"
   ]
  },
  {
   "cell_type": "code",
   "execution_count": null,
   "metadata": {},
   "outputs": [],
   "source": [
    "set(getlength('apple','banana','cherry','word'))"
   ]
  },
  {
   "cell_type": "code",
   "execution_count": null,
   "metadata": {},
   "outputs": [],
   "source": []
  }
 ],
 "metadata": {
  "kernelspec": {
   "display_name": "base",
   "language": "python",
   "name": "python3"
  },
  "language_info": {
   "codemirror_mode": {
    "name": "ipython",
    "version": 3
   },
   "file_extension": ".py",
   "mimetype": "text/x-python",
   "name": "python",
   "nbconvert_exporter": "python",
   "pygments_lexer": "ipython3",
   "version": "3.12.2"
  }
 },
 "nbformat": 4,
 "nbformat_minor": 2
}
