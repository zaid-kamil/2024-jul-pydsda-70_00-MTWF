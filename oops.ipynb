{
 "cells": [
  {
   "cell_type": "markdown",
   "metadata": {},
   "source": [
    "# OOPS\n",
    "- Classes and Objects\n",
    "  - Attributes (Instance Variables)\n",
    "  - Constructor\n",
    "  - Methods\n",
    "- Data classes\n",
    "- Inheritance\n",
    "  - simple inheritance\n",
    "  - multiple inheritance"
   ]
  },
  {
   "cell_type": "code",
   "execution_count": 10,
   "metadata": {},
   "outputs": [],
   "source": [
    "a = 10"
   ]
  },
  {
   "cell_type": "code",
   "execution_count": 11,
   "metadata": {},
   "outputs": [],
   "source": [
    "class A:\n",
    "    value = 10"
   ]
  },
  {
   "cell_type": "code",
   "execution_count": null,
   "metadata": {},
   "outputs": [],
   "source": [
    "a = A()  # obj creation of class A\n",
    "print(a.value)  # 10"
   ]
  },
  {
   "cell_type": "code",
   "execution_count": 13,
   "metadata": {},
   "outputs": [],
   "source": [
    "class Square:\n",
    "    # class variable == static variable in java\n",
    "    side = 10\n",
    "    # instance method -> 1st parameter is self\n",
    "    def area(self):\n",
    "        return self.side ** 2\n",
    "\n",
    "    def perimeter(self):\n",
    "        return 4 * self.side\n",
    "    \n",
    "    # class method == similar to static method in java\n",
    "    def faltu():\n",
    "        return \"this is faltu\""
   ]
  },
  {
   "cell_type": "code",
   "execution_count": null,
   "metadata": {},
   "outputs": [],
   "source": [
    "Square.side # static variable\n",
    "Square.faltu() # class method"
   ]
  },
  {
   "cell_type": "code",
   "execution_count": null,
   "metadata": {},
   "outputs": [],
   "source": [
    "s = Square()\n",
    "s.side = 20\n",
    "print(s.area())\n",
    "print(s.perimeter())\n",
    "\n",
    "s2 = Square()\n",
    "s.side = 5\n",
    "print(s2.area())\n",
    "print(s2.perimeter())"
   ]
  },
  {
   "cell_type": "markdown",
   "metadata": {},
   "source": [
    "constructor\n",
    "```\n",
    "__init__(self, ...)\n",
    "```"
   ]
  },
  {
   "cell_type": "code",
   "execution_count": 20,
   "metadata": {},
   "outputs": [],
   "source": [
    "class Person:\n",
    "    # constructor\n",
    "    def __init__(self, n,a,g):\n",
    "        # instance variable\n",
    "        self.name = n\n",
    "        self.age = a\n",
    "        self.gender = g\n",
    "\n",
    "    def show(self):\n",
    "        print(f\"Name: {self.name},\")\n",
    "        print(f\"Age: {self.age},\")\n",
    "        print(f\"Gender: {self.gender}\")"
   ]
  },
  {
   "cell_type": "code",
   "execution_count": 21,
   "metadata": {},
   "outputs": [],
   "source": [
    "p1 = Person(\"Hari\", 14, \"male\")\n",
    "p2 = Person(\"Sita\", 20, \"female\")\n",
    "p3 = Person(\"Gita\", 19, \"female\")"
   ]
  },
  {
   "cell_type": "code",
   "execution_count": 24,
   "metadata": {},
   "outputs": [],
   "source": [
    "class Calculator:\n",
    "    def add(self, a, b):\n",
    "        return a + b\n",
    "    def subtract(self, a, b):\n",
    "        return a - b    \n",
    "    def multiply(self, a, b):\n",
    "        return a * b\n",
    "    def divide(self, a, b):\n",
    "        return a / b"
   ]
  },
  {
   "cell_type": "code",
   "execution_count": null,
   "metadata": {},
   "outputs": [],
   "source": [
    "c = Calculator()\n",
    "print(c.add(10, 20))\n",
    "print(c.subtract(10, 20))\n",
    "print(c.multiply(10, 20))"
   ]
  },
  {
   "cell_type": "markdown",
   "metadata": {},
   "source": [
    "data classes"
   ]
  },
  {
   "cell_type": "code",
   "execution_count": 27,
   "metadata": {},
   "outputs": [],
   "source": [
    "from dataclasses import dataclass\n",
    "\n",
    "@dataclass\n",
    "class Product:\n",
    "    name: str\n",
    "    price: float\n",
    "    qty: int\n",
    "\n",
    "products = [\n",
    "    Product(\"Apple\", 100, 10),\n",
    "    Product(\"Banana\", 50, 20),\n",
    "    Product(\"Mango\", 200, 5)\n",
    "]"
   ]
  },
  {
   "cell_type": "code",
   "execution_count": null,
   "metadata": {},
   "outputs": [],
   "source": [
    "# traverse\n",
    "for item in products:\n",
    "    print(item.name, item.price*item.qty)"
   ]
  },
  {
   "cell_type": "code",
   "execution_count": null,
   "metadata": {},
   "outputs": [],
   "source": [
    "products"
   ]
  },
  {
   "cell_type": "code",
   "execution_count": null,
   "metadata": {},
   "outputs": [],
   "source": [
    "[p1, p2, p3]"
   ]
  },
  {
   "cell_type": "markdown",
   "metadata": {},
   "source": [
    "dunder methods -> functions that start and end with double underscores"
   ]
  },
  {
   "cell_type": "code",
   "execution_count": 37,
   "metadata": {},
   "outputs": [],
   "source": [
    "class Dog:\n",
    "    def __init__(self, breed, color, gender, age, name):\n",
    "        self.breed = breed\n",
    "        self.color = color\n",
    "        self.gender = gender\n",
    "        self.age = age\n",
    "        self.name = name\n",
    "\n",
    "    def bark(self):\n",
    "        print(\"Barking\")\n",
    "    def eat(self, food):\n",
    "        print(f\"{self.name} eating {food}\")\n",
    "    def sleep(self, duration):\n",
    "        print(f\"{self.name} slept for {duration} hours\")\n",
    "    def __str__(self):\n",
    "        return f\"{self.name}({self.breed})\"\n"
   ]
  },
  {
   "cell_type": "code",
   "execution_count": null,
   "metadata": {},
   "outputs": [],
   "source": [
    "d1 = Dog(\"German Shepherd\", \"Brown\", \"male\", 3, \"Tommy\")\n",
    "d1.sleep(5)\n",
    "print(d1)"
   ]
  },
  {
   "cell_type": "markdown",
   "metadata": {},
   "source": [
    "inheritance"
   ]
  },
  {
   "cell_type": "code",
   "execution_count": 59,
   "metadata": {},
   "outputs": [],
   "source": [
    "class SuperList(list):\n",
    "    def sum(self):\n",
    "        total = 0\n",
    "        for item in self:\n",
    "            if isinstance(item, (int, float)):\n",
    "                total += item\n",
    "        return total\n",
    "    \n",
    "    def mean(self):\n",
    "        return self.sum() / self.size()\n",
    "    \n",
    "    def size(self):\n",
    "        return len([i for i in self if isinstance(i, (int, float))])"
   ]
  },
  {
   "cell_type": "code",
   "execution_count": null,
   "metadata": {},
   "outputs": [],
   "source": [
    "sl = SuperList([1,2,3,4,5])\n",
    "print(sl.sum())\n",
    "sl2 = SuperList(['A',1,2,3,4,'B','C', 10])\n",
    "print(sl2.sum())\n",
    "print(sl2.mean()) "
   ]
  },
  {
   "cell_type": "markdown",
   "metadata": {},
   "source": [
    "multi-level inheritance\n",
    "\n",
    "class A -> class B(A) -> class C(B)"
   ]
  },
  {
   "cell_type": "code",
   "execution_count": 6,
   "metadata": {},
   "outputs": [],
   "source": [
    "class A:\n",
    "    def __init__(self, value):\n",
    "        self.value = value"
   ]
  },
  {
   "cell_type": "code",
   "execution_count": 7,
   "metadata": {},
   "outputs": [],
   "source": [
    "class AA(A):\n",
    "    def __init__(self, value, other_value):\n",
    "        super().__init__(value)\n",
    "        self.other_value = other_value"
   ]
  },
  {
   "cell_type": "code",
   "execution_count": 8,
   "metadata": {},
   "outputs": [],
   "source": [
    "class AAA(AA):\n",
    "    def __init__(self, first_value, second_value, third_value):\n",
    "        super().__init__(first_value, second_value)\n",
    "        self.third_value = third_value"
   ]
  },
  {
   "cell_type": "code",
   "execution_count": null,
   "metadata": {},
   "outputs": [],
   "source": [
    "obj = AAA(10, 20, 30)\n",
    "print(obj.value, obj.other_value, obj.third_value)"
   ]
  },
  {
   "cell_type": "markdown",
   "metadata": {},
   "source": [
    "multiple inheritance \n",
    "\n",
    "class A, class B -> class C(A, B)"
   ]
  },
  {
   "cell_type": "code",
   "execution_count": 10,
   "metadata": {},
   "outputs": [],
   "source": [
    "class FileManager:\n",
    "    def __init__(self, file):\n",
    "        self.file = file\n",
    "    def read(self):\n",
    "        pass\n",
    "    def write(self):\n",
    "        pass\n",
    "    def append(self):\n",
    "        pass"
   ]
  },
  {
   "cell_type": "code",
   "execution_count": 11,
   "metadata": {},
   "outputs": [],
   "source": [
    "class FolderManager:\n",
    "    def create(self):\n",
    "        pass\n",
    "    def delete(self):\n",
    "        pass\n",
    "    def rename(self):\n",
    "        pass"
   ]
  },
  {
   "cell_type": "code",
   "execution_count": 12,
   "metadata": {},
   "outputs": [],
   "source": [
    "class OsManager(FileManager, FolderManager):\n",
    "    def __init__(self, file):\n",
    "        super().__init__(file)"
   ]
  },
  {
   "cell_type": "code",
   "execution_count": 13,
   "metadata": {},
   "outputs": [],
   "source": [
    "om = OsManager(\"file.txt\")"
   ]
  },
  {
   "cell_type": "markdown",
   "metadata": {},
   "source": [
    "operator overloading"
   ]
  },
  {
   "cell_type": "code",
   "execution_count": 63,
   "metadata": {},
   "outputs": [],
   "source": [
    "class Person:\n",
    "    def __init__(self, name, age):\n",
    "        self.name = name\n",
    "        self.age = age\n",
    "    \n",
    "    # <\n",
    "    def __lt__(self, other):\n",
    "        return self.age < other.age\n",
    "    # +\n",
    "    def __add__(self, other):\n",
    "        return self.age + other.age\n",
    "    \n",
    "    # raw representation\n",
    "    def __repr__(self):\n",
    "        return self.__str__()\n",
    "    \n",
    "    # to string \n",
    "    def __str__(self):\n",
    "        return f\"{self.name}, {self.age}\""
   ]
  },
  {
   "cell_type": "code",
   "execution_count": 64,
   "metadata": {},
   "outputs": [
    {
     "data": {
      "text/plain": [
       "[Hari, 50, Sita, 30, Ram, 25, Gita, 23]"
      ]
     },
     "execution_count": 64,
     "metadata": {},
     "output_type": "execute_result"
    }
   ],
   "source": [
    "p1 = Person(\"Hari\", 50)\n",
    "p2 = Person(\"Sita\", 30)\n",
    "p3 = Person(\"Ram\", 25)\n",
    "p4 = Person(\"Gita\", 23)\n",
    "people = [p1, p2, p3, p4]\n"
   ]
  },
  {
   "cell_type": "code",
   "execution_count": null,
   "metadata": {},
   "outputs": [],
   "source": [
    "people"
   ]
  },
  {
   "cell_type": "code",
   "execution_count": 65,
   "metadata": {},
   "outputs": [
    {
     "name": "stdout",
     "output_type": "stream",
     "text": [
      "Hari, 50\n",
      "Sita, 30\n",
      "Ram, 25\n"
     ]
    }
   ],
   "source": [
    "print(p1)\n",
    "print(p2)\n",
    "print(p3)"
   ]
  },
  {
   "cell_type": "code",
   "execution_count": 52,
   "metadata": {},
   "outputs": [],
   "source": [
    "people.sort()"
   ]
  },
  {
   "cell_type": "code",
   "execution_count": null,
   "metadata": {},
   "outputs": [],
   "source": [
    "for p in people:\n",
    "    print(p.name)"
   ]
  },
  {
   "cell_type": "code",
   "execution_count": null,
   "metadata": {},
   "outputs": [],
   "source": [
    "p1 + p2"
   ]
  },
  {
   "cell_type": "code",
   "execution_count": null,
   "metadata": {},
   "outputs": [],
   "source": []
  },
  {
   "cell_type": "code",
   "execution_count": null,
   "metadata": {},
   "outputs": [],
   "source": []
  }
 ],
 "metadata": {
  "kernelspec": {
   "display_name": "base",
   "language": "python",
   "name": "python3"
  },
  "language_info": {
   "codemirror_mode": {
    "name": "ipython",
    "version": 3
   },
   "file_extension": ".py",
   "mimetype": "text/x-python",
   "name": "python",
   "nbconvert_exporter": "python",
   "pygments_lexer": "ipython3",
   "version": "3.12.2"
  }
 },
 "nbformat": 4,
 "nbformat_minor": 2
}
