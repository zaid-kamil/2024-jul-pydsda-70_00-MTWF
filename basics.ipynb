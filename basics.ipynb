{
 "cells": [
  {
   "cell_type": "markdown",
   "metadata": {},
   "source": [
    "# basics\n",
    "- variables\n",
    "- operators\n",
    "- datatypes\n",
    "- input/output"
   ]
  },
  {
   "cell_type": "code",
   "execution_count": null,
   "metadata": {},
   "outputs": [],
   "source": [
    "x = 3\n",
    "a , b = 10, 11\n",
    "c = a + b"
   ]
  },
  {
   "cell_type": "code",
   "execution_count": null,
   "metadata": {},
   "outputs": [],
   "source": [
    "l = 5\n",
    "b = 10\n",
    "area =  l * b"
   ]
  },
  {
   "cell_type": "code",
   "execution_count": null,
   "metadata": {},
   "outputs": [],
   "source": [
    "page_size = 10"
   ]
  },
  {
   "cell_type": "code",
   "execution_count": null,
   "metadata": {},
   "outputs": [],
   "source": [
    "a = 1000"
   ]
  },
  {
   "cell_type": "code",
   "execution_count": null,
   "metadata": {},
   "outputs": [],
   "source": [
    "a = \"hello\""
   ]
  },
  {
   "cell_type": "code",
   "execution_count": null,
   "metadata": {},
   "outputs": [],
   "source": [
    "a = 1.2345"
   ]
  },
  {
   "cell_type": "code",
   "execution_count": null,
   "metadata": {},
   "outputs": [],
   "source": [
    "del area"
   ]
  },
  {
   "cell_type": "markdown",
   "metadata": {},
   "source": [
    "### operators\n",
    "- assignment\n",
    "- arithmetic\n",
    "- comparison\n",
    "- logical\n",
    "- membership\n",
    "- identity"
   ]
  },
  {
   "cell_type": "code",
   "execution_count": null,
   "metadata": {},
   "outputs": [],
   "source": [
    "# assignment = += -= *= /= etc\n",
    "x = 10\n",
    "x += 5\n",
    "x -= 2\n",
    "x *= 3"
   ]
  },
  {
   "cell_type": "code",
   "execution_count": null,
   "metadata": {},
   "outputs": [],
   "source": [
    "# arithmetic + - * / % ** //\n",
    "a = 10\n",
    "b = 3"
   ]
  },
  {
   "cell_type": "code",
   "execution_count": null,
   "metadata": {},
   "outputs": [],
   "source": [
    "a+b"
   ]
  },
  {
   "cell_type": "code",
   "execution_count": null,
   "metadata": {},
   "outputs": [],
   "source": [
    "a-b"
   ]
  },
  {
   "cell_type": "code",
   "execution_count": null,
   "metadata": {},
   "outputs": [],
   "source": [
    "a/b"
   ]
  },
  {
   "cell_type": "code",
   "execution_count": null,
   "metadata": {},
   "outputs": [],
   "source": [
    "print(a // b) # integer division\n",
    "print(a % b)  # remainder (modulo)\n",
    "print(a ** b) # exponentiation"
   ]
  },
  {
   "cell_type": "code",
   "execution_count": null,
   "metadata": {},
   "outputs": [],
   "source": [
    "# comparison < > >= <= == !=\n",
    "x = 120\n",
    "y = 290\n",
    "print(x > y) # gt\n",
    "print(x < y) # lt\n",
    "print(x >= 100) # gte \n",
    "print(x <= 100) # lte \n",
    "print(x == 100) # equality\n",
    "print(x != 100) # inequality "
   ]
  },
  {
   "cell_type": "code",
   "execution_count": null,
   "metadata": {},
   "outputs": [],
   "source": [
    "# logical -> and or not\n",
    "print(x > 10 and y > 50)\n",
    "print(x > 10 and y < 50)\n",
    "print(x > 10 or y < 50)\n",
    "print(x < 10 or y < 50)\n",
    "print(not x > 5) # invert the result\n",
    "print(not x < 5)"
   ]
  },
  {
   "cell_type": "code",
   "execution_count": null,
   "metadata": {},
   "outputs": [],
   "source": [
    "# memebership -> in, not in\n",
    "x = [1,2,3,4,5,6,7]\n",
    "print(5 in x)\n",
    "print(10 in x)\n",
    "print(3 not in x)\n",
    "print(10 not in x)"
   ]
  },
  {
   "cell_type": "code",
   "execution_count": null,
   "metadata": {},
   "outputs": [],
   "source": [
    "# identity -> is, is not\n",
    "a = [1,2,3,4]\n",
    "b = a           # copy the reference\n",
    "c = [1,2,3,4]\n",
    "print(a is b)\n",
    "print(a is c)\n",
    "print(b is c)"
   ]
  },
  {
   "cell_type": "markdown",
   "metadata": {},
   "source": [
    "# datatypes\n",
    "- int (integer)\n",
    "- float  (real number)\n",
    "- bool (boolean)\n",
    "- str (String or text)\n",
    "- NoneType (None)\n",
    "- list\n",
    "- tuple\n",
    "- set\n",
    "- dict (dictionary)"
   ]
  },
  {
   "cell_type": "code",
   "execution_count": null,
   "metadata": {},
   "outputs": [],
   "source": [
    "num = 5                     # integer\n",
    "name = \"zaid kamil\"         # str\n",
    "pi = 3.14159                # float\n",
    "sleepy = True               # bool\n",
    "data = None                 # nonetype\n",
    "a_list = [1,2,3,4,5]        # list\n",
    "a_tuple = (1,2,3,4,5)       # tuple\n",
    "a_set = {1,2,3,4,5}         # set\n",
    "a_dict = {'a':10, 'b':20}   # dict"
   ]
  },
  {
   "cell_type": "code",
   "execution_count": null,
   "metadata": {},
   "outputs": [],
   "source": [
    "print(type(num))\n",
    "print(type(name))"
   ]
  },
  {
   "cell_type": "markdown",
   "metadata": {},
   "source": [
    "### displaying output and getting input"
   ]
  },
  {
   "cell_type": "code",
   "execution_count": null,
   "metadata": {},
   "outputs": [],
   "source": [
    "print()\n",
    "print('Hello')\n",
    "print('example string')\n",
    "print('example','print()','with','multiple','arguments')\n",
    "print('example','print()','with','multiple','arguments', sep='_')\n",
    "print('example','print()','with','multiple','arguments', sep='🐸💀')\n",
    "print('example','print()','with','multiple','arguments', sep='')\n",
    "print('C:', 'users','zaid','desktop', sep='/')"
   ]
  },
  {
   "cell_type": "code",
   "execution_count": null,
   "metadata": {},
   "outputs": [],
   "source": [
    "fruits = ['apple', 'banana', 'cherry', 'tomato']\n",
    "print(fruits)\n",
    "print(*fruits, sep='\\n') # hack to print list items in new lines"
   ]
  },
  {
   "cell_type": "markdown",
   "metadata": {},
   "source": [
    "displaying content with variables"
   ]
  },
  {
   "cell_type": "code",
   "execution_count": null,
   "metadata": {},
   "outputs": [],
   "source": [
    "a, b, = 10, 20\n",
    "c = a + b\n",
    "# Result => 10 + 20 = 30\n",
    "print('Result =>', a, '+', b, '=', c) # comma seperated\n",
    "print(f'Result => {a} + {b} = {c}')  # f-string"
   ]
  },
  {
   "cell_type": "code",
   "execution_count": null,
   "metadata": {},
   "outputs": [],
   "source": [
    "x = int(input())\n",
    "name = input(\"who are you?\")\n",
    "print(f\"So you are, {name}, i have been expecting you\")"
   ]
  },
  {
   "cell_type": "code",
   "execution_count": null,
   "metadata": {},
   "outputs": [],
   "source": [
    "p = int(input(\"Enter the principal amount: \"))\n",
    "r = float(input(\"Enter the rate of interest: \"))\n",
    "t = int(input(\"Enter the time in years: \"))\n",
    "si = p * r * t / 100\n",
    "print(\"Simple Interest calculation\")\n",
    "print(f'Principal => {p}')\n",
    "print(f'Rate of Interest => {r}')\n",
    "print(f'Time(yrs) => {t}')\n",
    "print(\"---\"*10)\n",
    "print(f'Simple interest will be => {si}')"
   ]
  },
  {
   "cell_type": "markdown",
   "metadata": {},
   "source": [
    "alignment and formatting"
   ]
  },
  {
   "cell_type": "code",
   "execution_count": null,
   "metadata": {},
   "outputs": [],
   "source": [
    "word = 'Journey'\n",
    "print(word)\n",
    "print(f\"{word}\")\n",
    "print(f\"{word:>15}\") # right align\n",
    "print(f\"{word:^15}\") # center align\n",
    "num = 1200.239012930213912\n",
    "print(f\"{num}\")\n",
    "print(f\"{num:15}\")\n",
    "print(f\"{num:<15}\")\n",
    "print(f\"{num:^15}\")\n",
    "print(f\"{num:15.2f}\")\n",
    "print(f\"{num:.3f}\")"
   ]
  },
  {
   "cell_type": "code",
   "execution_count": null,
   "metadata": {},
   "outputs": [],
   "source": [
    "print(\"Simple Interest calculation\")\n",
    "print(\"---\"*10)\n",
    "print(f'Principal {p:20}')\n",
    "print(f'Rate of Interest {r:13}')\n",
    "print(f'Time(yrs) {t:20}')\n",
    "print(\"---\"*10)\n",
    "print(f'Simple interest {si:14}')"
   ]
  },
  {
   "cell_type": "code",
   "execution_count": null,
   "metadata": {},
   "outputs": [],
   "source": []
  }
 ],
 "metadata": {
  "kernelspec": {
   "display_name": "base",
   "language": "python",
   "name": "python3"
  },
  "language_info": {
   "codemirror_mode": {
    "name": "ipython",
    "version": 3
   },
   "file_extension": ".py",
   "mimetype": "text/x-python",
   "name": "python",
   "nbconvert_exporter": "python",
   "pygments_lexer": "ipython3",
   "version": "3.12.2"
  }
 },
 "nbformat": 4,
 "nbformat_minor": 2
}
