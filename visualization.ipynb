{
 "cells": [
  {
   "cell_type": "code",
   "execution_count": null,
   "metadata": {},
   "outputs": [],
   "source": [
    "import matplotlib.pyplot as plt\n",
    "import numpy as np"
   ]
  },
  {
   "cell_type": "code",
   "execution_count": null,
   "metadata": {},
   "outputs": [],
   "source": [
    "fig, ax = plt.subplots()"
   ]
  },
  {
   "cell_type": "code",
   "execution_count": null,
   "metadata": {},
   "outputs": [],
   "source": [
    "fig, (ax1, ax2) = plt.subplots(nrows=2)"
   ]
  },
  {
   "cell_type": "code",
   "execution_count": null,
   "metadata": {},
   "outputs": [],
   "source": [
    "fig, (ax1,ax2,ax3) = plt.subplots(ncols=3)"
   ]
  },
  {
   "cell_type": "code",
   "execution_count": null,
   "metadata": {},
   "outputs": [],
   "source": [
    "fig, ((ax1,ax2),(ax3,ax4)) = plt.subplots(nrows=2, ncols=2)"
   ]
  },
  {
   "cell_type": "code",
   "execution_count": null,
   "metadata": {},
   "outputs": [],
   "source": [
    "fig, ax = plt.subplots(figsize=(10,4))"
   ]
  },
  {
   "cell_type": "code",
   "execution_count": null,
   "metadata": {},
   "outputs": [],
   "source": [
    "data = [1,2,3,4,6,8,10,12]\n",
    "fig, ax = plt.subplots(figsize=(5,3))\n",
    "ax.set_xlabel('No of elements', fontdict={'fontsize':10, 'color':'red'})\n",
    "ax.set_ylabel('Y - Value')\n",
    "ax.plot(data)"
   ]
  },
  {
   "cell_type": "code",
   "execution_count": null,
   "metadata": {},
   "outputs": [],
   "source": [
    "data = [1,2,3,4,6,8,10,12]\n",
    "fig, ax = plt.subplots(figsize=(5,3))\n",
    "ax.set_xlabel('No of elements', fontdict={'fontsize':10, 'color':'red'})\n",
    "ax.set_ylabel('Y - Value')\n",
    "ax.grid(True)\n",
    "ax.set_title(\"Basics of Visualization\", loc='right')\n",
    "ax.plot(data)"
   ]
  },
  {
   "cell_type": "code",
   "execution_count": null,
   "metadata": {},
   "outputs": [],
   "source": [
    "data = [1,2,3,4,6,8,10,12]\n",
    "fig, ax = plt.subplots(figsize=(5,3))\n",
    "ax.set_xlabel('No of elements', fontdict={'fontsize':10, 'color':'red'})\n",
    "ax.set_ylabel('Y - Value')\n",
    "ax.grid(True)\n",
    "ax.set_title(\"Basics of Visualization\", loc='right')\n",
    "ax.plot(data, marker='o', markersize=10,\n",
    "        markeredgecolor='black', markerfacecolor='yellow')"
   ]
  },
  {
   "cell_type": "code",
   "execution_count": null,
   "metadata": {},
   "outputs": [],
   "source": [
    "data = [1,2,3,4,6,8,10,12]\n",
    "fig, ax = plt.subplots(figsize=(5,3))\n",
    "ax.set_xlabel('No of elements', fontdict={'fontsize':10, 'color':'red'})\n",
    "ax.set_ylabel('Y - Value')\n",
    "ax.grid(True)\n",
    "ax.set_title(\"Basics of Visualization\", loc='right')\n",
    "ax.plot(data, marker='X', markersize=10,\n",
    "        markeredgecolor='black', markerfacecolor='yellow')"
   ]
  },
  {
   "cell_type": "code",
   "execution_count": null,
   "metadata": {},
   "outputs": [],
   "source": [
    "plt.plot?"
   ]
  },
  {
   "cell_type": "code",
   "execution_count": null,
   "metadata": {},
   "outputs": [],
   "source": [
    "data = [1,2,3,4,6,8,10,12]\n",
    "data2 = [22,23,34,35,7,9,11,13]\n",
    "fig, ax = plt.subplots(figsize=(5,3))\n",
    "ax.plot(data, marker='X', markersize=10,\n",
    "        markeredgecolor='blue', markerfacecolor='yellow',\n",
    "        linestyle=':')\n",
    "ax.plot(data2, marker='o', markersize=10, \n",
    "        markeredgecolor='black', markerfacecolor='red',\n",
    "        linestyle='--', color='green', linewidth=2, alpha=0.5)"
   ]
  },
  {
   "cell_type": "code",
   "execution_count": null,
   "metadata": {},
   "outputs": [],
   "source": [
    "data = [1,2,3,4,6,8,10,12]\n",
    "data2 = [22,23,34,35,7,9,11,13]\n",
    "fig, (ax1,ax2) = plt.subplots(figsize=(10,3), ncols=2)\n",
    "ax1.plot(data, marker='X', markersize=10,\n",
    "        markeredgecolor='blue', markerfacecolor='yellow',\n",
    "        linestyle=':')\n",
    "ax2.plot(data2, marker='o', markersize=10, \n",
    "        markeredgecolor='black', markerfacecolor='red',\n",
    "        linestyle='--', color='green', linewidth=2, alpha=0.5)"
   ]
  },
  {
   "cell_type": "code",
   "execution_count": null,
   "metadata": {},
   "outputs": [],
   "source": []
  }
 ],
 "metadata": {
  "kernelspec": {
   "display_name": "base",
   "language": "python",
   "name": "python3"
  },
  "language_info": {
   "codemirror_mode": {
    "name": "ipython",
    "version": 3
   },
   "file_extension": ".py",
   "mimetype": "text/x-python",
   "name": "python",
   "nbconvert_exporter": "python",
   "pygments_lexer": "ipython3",
   "version": "3.12.2"
  }
 },
 "nbformat": 4,
 "nbformat_minor": 2
}
