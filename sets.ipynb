{
 "cells": [
  {
   "cell_type": "markdown",
   "metadata": {},
   "source": [
    "# Data structures - Set\n",
    "- unordered\n",
    "- unindexed\n",
    "- mutable\n",
    "- mixed immutable elements\n",
    "- unique elements\n",
    "- iterable\n",
    "- represented by curly braces `{ }`\n",
    "- `set()` for creating sets"
   ]
  },
  {
   "cell_type": "code",
   "execution_count": null,
   "metadata": {},
   "outputs": [],
   "source": [
    "x = set() # empty set\n",
    "print(x, type(x))\n",
    "y = {1,2,3}\n",
    "z = {'a','b','d','c'}\n",
    "print(y)\n",
    "print(z)\n",
    "a = set([1,2,3,4,5])\n",
    "print(a)\n",
    "b = {'a', 1, 'b', 2, 'c', 3}\n",
    "print(b)\n",
    "c = {1,2,3,1,2,3,1,2,3}\n",
    "print(c)"
   ]
  },
  {
   "cell_type": "code",
   "execution_count": null,
   "metadata": {},
   "outputs": [],
   "source": [
    "# traversing a set\n",
    "for i in b:\n",
    "    print(i)"
   ]
  },
  {
   "cell_type": "code",
   "execution_count": null,
   "metadata": {},
   "outputs": [],
   "source": [
    "books = set()\n",
    "books.add(\"Legion\")\n",
    "books.add(\"Snapshot\")\n",
    "books.add(\"Steelheart\")\n",
    "books.add(\"Firefight\")\n",
    "print(books)"
   ]
  },
  {
   "cell_type": "code",
   "execution_count": null,
   "metadata": {},
   "outputs": [],
   "source": [
    "books.update([\"Calamity\", \"Mistborn\", \"Elantris\"])\n",
    "print(books)"
   ]
  },
  {
   "cell_type": "code",
   "execution_count": null,
   "metadata": {},
   "outputs": [],
   "source": [
    "books.discard(\"Mistborn\") # discard is better than remove"
   ]
  },
  {
   "cell_type": "code",
   "execution_count": null,
   "metadata": {},
   "outputs": [],
   "source": [
    "books.pop() # removes a random element"
   ]
  },
  {
   "cell_type": "markdown",
   "metadata": {},
   "source": [
    "set operations"
   ]
  },
  {
   "cell_type": "code",
   "execution_count": null,
   "metadata": {},
   "outputs": [],
   "source": [
    "a = {1,2,3,4,5}\n",
    "b = {4,5,6,7,8}\n",
    "c = {1,2,3}\n",
    "d = {5,6,7}"
   ]
  },
  {
   "cell_type": "markdown",
   "metadata": {},
   "source": [
    "- `union()` => `|`\n",
    "- `intersection()` => `&`\n",
    "- `difference()` => `-`\n",
    "- `symmetric_difference()` => `^`"
   ]
  },
  {
   "cell_type": "code",
   "execution_count": null,
   "metadata": {},
   "outputs": [],
   "source": [
    "a.union(b)"
   ]
  },
  {
   "cell_type": "code",
   "execution_count": null,
   "metadata": {},
   "outputs": [],
   "source": [
    "a | b"
   ]
  },
  {
   "cell_type": "code",
   "execution_count": null,
   "metadata": {},
   "outputs": [],
   "source": [
    "print(\"intersection\")\n",
    "print(a.intersection(b))\n",
    "print(a & b)\n",
    "\n",
    "print(\"difference\")\n",
    "print(a.difference(b))\n",
    "print(a - b)\n",
    "\n",
    "print(\"symmetric difference\")\n",
    "print(a.symmetric_difference(b))\n",
    "print(a ^ b)"
   ]
  },
  {
   "cell_type": "code",
   "execution_count": null,
   "metadata": {},
   "outputs": [],
   "source": [
    "print(\"joined\",a.isdisjoint(c))\n",
    "print(\"disjointed:\",a.isdisjoint({11,12}))"
   ]
  },
  {
   "cell_type": "code",
   "execution_count": null,
   "metadata": {},
   "outputs": [],
   "source": [
    "print(\"subset:\",c.issubset(a))\n",
    "print(\"superset:\",d.issuperset(c))\n",
    "print(\"superset:\",b.issuperset(d))"
   ]
  },
  {
   "cell_type": "code",
   "execution_count": 34,
   "metadata": {},
   "outputs": [
    {
     "name": "stdout",
     "output_type": "stream",
     "text": [
      "Your data\n",
      "==> aaa\n",
      "==> bb\n",
      "==> aa\n"
     ]
    }
   ],
   "source": [
    "# wap that allows users to enter data as much as they want and then\n",
    "# remove duplicates and print the unique data\n",
    "data = set()\n",
    "while True:\n",
    "    value = input(\"enter your data\")\n",
    "    if not value:\n",
    "        break\n",
    "    data.add(value)\n",
    "print(\"Your data\")\n",
    "for item in data:\n",
    "    print(\"==>\",item)"
   ]
  },
  {
   "cell_type": "code",
   "execution_count": null,
   "metadata": {},
   "outputs": [],
   "source": []
  }
 ],
 "metadata": {
  "kernelspec": {
   "display_name": "base",
   "language": "python",
   "name": "python3"
  },
  "language_info": {
   "codemirror_mode": {
    "name": "ipython",
    "version": 3
   },
   "file_extension": ".py",
   "mimetype": "text/x-python",
   "name": "python",
   "nbconvert_exporter": "python",
   "pygments_lexer": "ipython3",
   "version": "3.12.2"
  }
 },
 "nbformat": 4,
 "nbformat_minor": 2
}
