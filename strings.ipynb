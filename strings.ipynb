{
 "cells": [
  {
   "cell_type": "markdown",
   "metadata": {},
   "source": [
    "# String\n",
    "- creating\n",
    "- indexing\n",
    "- slicing\n",
    "- methods"
   ]
  },
  {
   "cell_type": "code",
   "execution_count": null,
   "metadata": {},
   "outputs": [],
   "source": [
    "# creation\n",
    "a = '' # empty string\n",
    "name = 'Sara' # single quoted\n",
    "city = \"Lucknow\" # double quoted\n",
    "message = '''this is an example\n",
    "of multiline string in python,\n",
    "triple quotes allow multi line concept'''"
   ]
  },
  {
   "cell_type": "code",
   "execution_count": null,
   "metadata": {},
   "outputs": [],
   "source": [
    "# string duplication\n",
    "decor = '~o~|' * 10\n",
    "print(decor)"
   ]
  },
  {
   "cell_type": "code",
   "execution_count": null,
   "metadata": {},
   "outputs": [],
   "source": [
    "# string concatenation\n",
    "name + \"_\" + city"
   ]
  },
  {
   "cell_type": "code",
   "execution_count": null,
   "metadata": {},
   "outputs": [],
   "source": [
    "# casting\n",
    "a = str(192301)\n",
    "b = str([1,2,3])\n",
    "c = str(True)\n",
    "d = str(False)\n",
    "print(a)\n",
    "print(b)\n",
    "print(c)\n",
    "print(d)"
   ]
  },
  {
   "cell_type": "markdown",
   "metadata": {},
   "source": [
    "string is indexed and immutable"
   ]
  },
  {
   "cell_type": "code",
   "execution_count": null,
   "metadata": {},
   "outputs": [],
   "source": [
    "word = \"SYNCRONIZED\"\n",
    "print(word)\n",
    "print(len(word))\n",
    "print(word[0]) # first\n",
    "print(word[1]) # second\n",
    "print(word[2]) # third\n",
    "print(word[3]) # fourth\n",
    "print(word[5]) # sixth\n",
    "print(word[-1]) # last\n",
    "print(word[-2]) # second last\n",
    "print(word[-3]) # third last\n",
    "print(word[-5]) # fifth last"
   ]
  },
  {
   "cell_type": "markdown",
   "metadata": {},
   "source": [
    "`slicing`\n",
    "syntax\n",
    "```python\n",
    "\n",
    "var[start: stop] # start from an index and get slice till stop-1\n",
    "\n",
    "var[start: stop: step]\n",
    "\n",
    "var[: stop]    # start from beginning\n",
    "\n",
    "var[start :]   # start from an index stop at the end\n",
    "\n",
    "```"
   ]
  },
  {
   "cell_type": "code",
   "execution_count": null,
   "metadata": {},
   "outputs": [],
   "source": [
    "print(word[0:4])\n",
    "print(word[:4])\n",
    "print(word[5:8])\n",
    "print(word[4:])\n",
    "print(word[1:10:2])\n",
    "print(word[:10:2])\n",
    "print(word[::2]) # all even indexes\n",
    "print(word[::-1]) # reverse"
   ]
  },
  {
   "cell_type": "code",
   "execution_count": null,
   "metadata": {},
   "outputs": [],
   "source": [
    "name = \"Vijay Deenanath Chauhan\"\n",
    "fname = name[:5]\n",
    "lname = name[-7:]\n",
    "mname = name[6:-8]\n",
    "print(fname)\n",
    "print(mname)\n",
    "print(lname)"
   ]
  },
  {
   "cell_type": "code",
   "execution_count": null,
   "metadata": {},
   "outputs": [],
   "source": []
  }
 ],
 "metadata": {
  "kernelspec": {
   "display_name": "base",
   "language": "python",
   "name": "python3"
  },
  "language_info": {
   "codemirror_mode": {
    "name": "ipython",
    "version": 3
   },
   "file_extension": ".py",
   "mimetype": "text/x-python",
   "name": "python",
   "nbconvert_exporter": "python",
   "pygments_lexer": "ipython3",
   "version": "3.12.2"
  }
 },
 "nbformat": 4,
 "nbformat_minor": 2
}
