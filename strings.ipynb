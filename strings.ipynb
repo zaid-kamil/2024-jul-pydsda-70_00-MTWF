{
 "cells": [
  {
   "cell_type": "markdown",
   "metadata": {},
   "source": [
    "# String\n",
    "- creating\n",
    "- indexing\n",
    "- slicing\n",
    "- methods"
   ]
  },
  {
   "cell_type": "code",
   "execution_count": null,
   "metadata": {},
   "outputs": [],
   "source": [
    "# creation\n",
    "a = '' # empty string\n",
    "name = 'Sara' # single quoted\n",
    "city = \"Lucknow\" # double quoted\n",
    "message = '''this is an example\n",
    "of multiline string in python,\n",
    "triple quotes allow multi line concept'''"
   ]
  },
  {
   "cell_type": "code",
   "execution_count": null,
   "metadata": {},
   "outputs": [],
   "source": [
    "# string duplication\n",
    "decor = '~o~|' * 10\n",
    "print(decor)"
   ]
  },
  {
   "cell_type": "code",
   "execution_count": null,
   "metadata": {},
   "outputs": [],
   "source": [
    "# string concatenation\n",
    "name + \"_\" + city"
   ]
  },
  {
   "cell_type": "code",
   "execution_count": null,
   "metadata": {},
   "outputs": [],
   "source": [
    "# casting\n",
    "a = str(192301)\n",
    "b = str([1,2,3])\n",
    "c = str(True)\n",
    "d = str(False)\n",
    "print(a)\n",
    "print(b)\n",
    "print(c)\n",
    "print(d)"
   ]
  },
  {
   "cell_type": "markdown",
   "metadata": {},
   "source": [
    "string is indexed and immutable"
   ]
  },
  {
   "cell_type": "code",
   "execution_count": null,
   "metadata": {},
   "outputs": [],
   "source": [
    "word = \"SYNCRONIZED\"\n",
    "print(word)\n",
    "print(len(word))\n",
    "print(word[0]) # first\n",
    "print(word[1]) # second\n",
    "print(word[2]) # third\n",
    "print(word[3]) # fourth\n",
    "print(word[5]) # sixth\n",
    "print(word[-1]) # last\n",
    "print(word[-2]) # second last\n",
    "print(word[-3]) # third last\n",
    "print(word[-5]) # fifth last"
   ]
  },
  {
   "cell_type": "markdown",
   "metadata": {},
   "source": [
    "`slicing`\n",
    "syntax\n",
    "```python\n",
    "\n",
    "var[start: stop] # start from an index and get slice till stop-1\n",
    "\n",
    "var[start: stop: step]\n",
    "\n",
    "var[: stop]    # start from beginning\n",
    "\n",
    "var[start :]   # start from an index stop at the end\n",
    "\n",
    "```"
   ]
  },
  {
   "cell_type": "code",
   "execution_count": null,
   "metadata": {},
   "outputs": [],
   "source": [
    "print(word[0:4])\n",
    "print(word[:4])\n",
    "print(word[5:8])\n",
    "print(word[4:])\n",
    "print(word[1:10:2])\n",
    "print(word[:10:2])\n",
    "print(word[::2]) # all even indexes\n",
    "print(word[::-1]) # reverse"
   ]
  },
  {
   "cell_type": "code",
   "execution_count": null,
   "metadata": {},
   "outputs": [],
   "source": [
    "name = \"Vijay Deenanath Chauhan\"\n",
    "fname = name[:5]\n",
    "lname = name[-7:]\n",
    "mname = name[6:-8]\n",
    "print(fname)\n",
    "print(mname)\n",
    "print(lname)"
   ]
  },
  {
   "cell_type": "markdown",
   "metadata": {},
   "source": [
    "`9 - Aug- 2024`\n",
    "\n",
    "### String methods\n",
    "- formatting\n",
    "- validation\n",
    "- utility"
   ]
  },
  {
   "cell_type": "code",
   "execution_count": null,
   "metadata": {},
   "outputs": [],
   "source": [
    "# formatting\n",
    "quote = \"Journey before Destination\"\n",
    "print(\"original:\",quote)\n",
    "print(\"upper:\", quote.upper())\n",
    "print(\"lower:\", quote.lower())\n",
    "print(\"capitalize:\", quote.capitalize())\n",
    "print(\"title:\", quote.title())\n",
    "print(\"swapcase:\", quote.swapcase())\n",
    "print(\"casefold:\", quote.casefold())\n",
    "print(quote)\n",
    "quote = quote.upper()\n",
    "print(quote)"
   ]
  },
  {
   "cell_type": "code",
   "execution_count": null,
   "metadata": {},
   "outputs": [],
   "source": [
    "print(quote.ljust(80))\n",
    "print(quote.ljust(80, '-'))\n",
    "print(quote.rjust(80))\n",
    "print(quote.rjust(80, '^'))\n",
    "print(quote.center(80))\n",
    "print(quote.center(80, '-'))"
   ]
  },
  {
   "cell_type": "code",
   "execution_count": null,
   "metadata": {},
   "outputs": [],
   "source": [
    "# validation\n",
    "print('123'.isdigit()) # isdigit\n",
    "print('1 23'.isdigit())\n",
    "print('apple'.isalpha()) # isalpha\n",
    "print('1apple'.isalpha())\n",
    "print('apple pie'.isalpha())\n",
    "print('apple123'.isalnum()) # isalnum\n",
    "print('123'.isalnum())\n",
    "print('cherry'.isalnum())\n",
    "print('cherry 123'.isalnum())\n",
    "print('cherry 123'.isnumeric())\n",
    "print('123'.isnumeric())\n",
    "print('   '.isspace())\n",
    "print('1 3 2'.isspace())"
   ]
  },
  {
   "cell_type": "code",
   "execution_count": null,
   "metadata": {},
   "outputs": [],
   "source": [
    "num = input(\"enter a number\")\n",
    "if num.isnumeric():\n",
    "    num = int(num)\n",
    "    print(\"Shabash\")\n",
    "else:\n",
    "    print(\"Please go back to kindergarten\")"
   ]
  },
  {
   "cell_type": "code",
   "execution_count": null,
   "metadata": {},
   "outputs": [],
   "source": [
    "print('apple'.startswith('a'))\n",
    "print('apple'.startswith('A'))\n",
    "print('apple'.startswith('b'))\n",
    "print('apple'.endswith('e'))\n",
    "print('book.pdf'.endswith('pdf'))\n",
    "print('book_one.pdf'.startswith('book'))\n",
    "print('book_one.pdf'.startswith('one'))"
   ]
  },
  {
   "cell_type": "code",
   "execution_count": null,
   "metadata": {},
   "outputs": [],
   "source": [
    "apps = ['a.exe','b.exe','c.pdf','d.exe','e.doc','f.doc']\n",
    "for app in apps:\n",
    "    if app.endswith('.exe'):\n",
    "        print(app)"
   ]
  },
  {
   "cell_type": "code",
   "execution_count": null,
   "metadata": {},
   "outputs": [],
   "source": [
    "# utility - find, replace, count, strip, split, join\n",
    "print(quote.find('B'))\n",
    "print(quote.find('BEFORE'))\n",
    "print(quote.find('N'))\n",
    "print(quote.find('N', 5)) # start from 5 index\n",
    "print(quote.find('I', 1, 10)) # start 1st index , stop 10 index\n",
    "print(quote.find('I',))\n",
    "print(quote.find('FORE DE'))\n",
    "print(quote.find('FOREDE'))"
   ]
  },
  {
   "cell_type": "code",
   "execution_count": null,
   "metadata": {},
   "outputs": [],
   "source": [
    "quote = \"Journey before Destination\".upper()\n",
    "print(quote.replace(\"BEFORE\",\"AFTER\"))\n",
    "print(quote.replace(\"E\",\"A\"))\n",
    "print(quote.replace(\"E\",\"O\", 2))\n",
    "print(quote.replace(\"E\",\"^^^\",))\n",
    "\n",
    "quote = quote.replace(\"JOURNEY\", \"SLEEPING\")\n",
    "print(quote)\n",
    "quote = quote.replace('A','_').replace(\"E\",\"_\").replace(\"I\",'_')\n",
    "print(quote)"
   ]
  },
  {
   "cell_type": "code",
   "execution_count": null,
   "metadata": {},
   "outputs": [],
   "source": [
    "words = 'egg spam egg egg spam egg spam bacon egg'\n",
    "print(words.count('egg'))\n",
    "print(words.count('spam'))\n",
    "print(words.count('bacon'))\n",
    "print(words.count('pie'))\n",
    "print(words.count('egg s'))"
   ]
  },
  {
   "cell_type": "code",
   "execution_count": null,
   "metadata": {},
   "outputs": [],
   "source": [
    "name = ' Alex mason '\n",
    "print(name)\n",
    "print(name.strip())\n",
    "data = '''\n",
    "\n",
    "    123340\n",
    "\n",
    "'''\n",
    "print(data)\n",
    "print(data.strip())"
   ]
  },
  {
   "cell_type": "code",
   "execution_count": null,
   "metadata": {},
   "outputs": [],
   "source": [
    "data = data.strip()\n",
    "print(data)"
   ]
  },
  {
   "cell_type": "code",
   "execution_count": null,
   "metadata": {},
   "outputs": [],
   "source": [
    "print(words.split())\n",
    "print(\"a,b,c,d,e\".split(','))\n",
    "print(\"a-b-d-e\".split('-'))\n",
    "poem = '''\n",
    "Johny Johny, Yes Papa,\n",
    "Eating sugar? No Papa,\n",
    "Telling lies? No Papa,\n",
    "Open your mouth, Ha! Ha! Ha!\n",
    "'''\n",
    "sentence = poem.strip().splitlines()\n",
    "print(sentence)"
   ]
  },
  {
   "cell_type": "code",
   "execution_count": 96,
   "metadata": {},
   "outputs": [
    {
     "name": "stdout",
     "output_type": "stream",
     "text": [
      "192.168.1.1\n"
     ]
    }
   ],
   "source": [
    "addr = ['192','168','1','1'] # list of str\n",
    "ip_addr = \".\".join(addr)\n",
    "print(ip_addr)"
   ]
  },
  {
   "cell_type": "code",
   "execution_count": null,
   "metadata": {},
   "outputs": [],
   "source": []
  }
 ],
 "metadata": {
  "kernelspec": {
   "display_name": "base",
   "language": "python",
   "name": "python3"
  },
  "language_info": {
   "codemirror_mode": {
    "name": "ipython",
    "version": 3
   },
   "file_extension": ".py",
   "mimetype": "text/x-python",
   "name": "python",
   "nbconvert_exporter": "python",
   "pygments_lexer": "ipython3",
   "version": "3.12.2"
  }
 },
 "nbformat": 4,
 "nbformat_minor": 2
}
