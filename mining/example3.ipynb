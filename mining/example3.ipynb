{
 "cells": [
  {
   "cell_type": "code",
   "execution_count": 1,
   "metadata": {},
   "outputs": [],
   "source": [
    "from dputils.scrape import Scraper, Tag"
   ]
  },
  {
   "cell_type": "code",
   "execution_count": 31,
   "metadata": {},
   "outputs": [],
   "source": [
    "def get_url_list_from_amazon(url):\n",
    "    sc = Scraper(url)\n",
    "    urllist = sc.get_repeating_date_from_page(\n",
    "        target=Tag('div', cls='s-result-list'),\n",
    "        items = Tag('div', cls='s-result-item'),\n",
    "        url = Tag('a', cls='a-link-normal', output='href'),\n",
    "    )\n",
    "    return [item['url'] for item in urllist if item['url']]"
   ]
  },
  {
   "cell_type": "code",
   "execution_count": 33,
   "metadata": {},
   "outputs": [
    {
     "data": {
      "text/plain": [
       "['https://aax-eu.amazon.in/x/c/JDJWABJCWpHJFnBpKGwolf4AAAGSKYoUNAMAAAH2AQBvbm9fdHhuX2JpZDIgICBvbm9fdHhuX2ltcDEgICALrUY-/https://www.amazon.in/stores/page/D4FF818A-6C20-480D-960F-8ABAA178C71B/?_encoding=UTF8&store_ref=SB_A1034153KHL56M2RAWLC-A016707833EA2OADGJBS6&pd_rd_plhdr=t&aaxitk=067d11349f9fe49292c6a62faa753564&hsa_cr_id=0&lp_asins=B0DDTZF6G1%2CB0DDTXJ2MX%2CB0DDTXW9WH&lp_query=mobile&lp_slot=auto-sparkle-hsa-tetris&ref_=sbx_be_s_sparkle_lsi4d_bkgd&pd_rd_w=rqTcZ&content-id=amzn1.sym.df9fe057-524b-4172-ac34-9a1b3c4e647d%3Aamzn1.sym.df9fe057-524b-4172-ac34-9a1b3c4e647d&pf_rd_p=df9fe057-524b-4172-ac34-9a1b3c4e647d&pf_rd_r=SMH4W0469EVEWCHH78RD&pd_rd_wg=9V3zA&pd_rd_r=3ff3f3d9-e31f-4747-af8f-20d6b4b6451b',\n",
       " '/sspa/click?ie=UTF8&spc=MTozNDY4NDQ1NzY0MjQzNDc1OjE3MjcyNzM3Njc6c3BfYXRmOjMwMDE5MzUwNTg4ODgzMjo6MDo6&url=%2FiQOO-Storage-Snapdragon-6000mAh-FlashCharge%2Fdp%2FB07WHPLH66%2Fref%3Dsr_1_1_sspa%3Fdib%3DeyJ2IjoiMSJ9.wQ9T254XRacqS5wcg7MgPBOc4rLQizUoKSvpZbyQc5ulpoaB7XQhiPUHsC08Q6UMLkvv_qlhmP2w58yUHJMYkN1rCb-E_x5Nev0IR3i31GDqkWXByiJBZNgt7R2GsuGq-NlbBB6UbhDaEFUwDCqqPrHNoOY3VGCm9BJNskWcLDk89LETmdv7RGtqBeyKaKTys5Vn2QPMMt4y3uyBhJlM4Ljswu2p8OeEdF3YgJsfvN4.W4vwYT4BQPbhd00IsSMvb7auhpacecuYAFNssDQlgew%26dib_tag%3Dse%26keywords%3Dmobile%26qid%3D1727273767%26sr%3D8-1-spons%26sp_csd%3Dd2lkZ2V0TmFtZT1zcF9hdGY%26psc%3D1',\n",
       " '/sspa/click?ie=UTF8&spc=MTozNDY4NDQ1NzY0MjQzNDc1OjE3MjcyNzM3Njc6c3BfYXRmOjMwMDM0NjYzNTMzMzEzMjo6MDo6&url=%2FiQOO-Titanium-Ultra-Thin-Dimesity-Processor%2Fdp%2FB07WHS99FG%2Fref%3Dsr_1_2_sspa%3Fdib%3DeyJ2IjoiMSJ9.wQ9T254XRacqS5wcg7MgPBOc4rLQizUoKSvpZbyQc5ulpoaB7XQhiPUHsC08Q6UMLkvv_qlhmP2w58yUHJMYkN1rCb-E_x5Nev0IR3i31GDqkWXByiJBZNgt7R2GsuGq-NlbBB6UbhDaEFUwDCqqPrHNoOY3VGCm9BJNskWcLDk89LETmdv7RGtqBeyKaKTys5Vn2QPMMt4y3uyBhJlM4Ljswu2p8OeEdF3YgJsfvN4.W4vwYT4BQPbhd00IsSMvb7auhpacecuYAFNssDQlgew%26dib_tag%3Dse%26keywords%3Dmobile%26qid%3D1727273767%26sr%3D8-2-spons%26sp_csd%3Dd2lkZ2V0TmFtZT1zcF9hdGY%26psc%3D1',\n",
       " '/gp/bestsellers/electronics/1805560031/ref=sr_bs_2_1805560031_1',\n",
       " '/Starfrost-Storage-Powered-MediaTek-Display/dp/B0CMTX362W/ref=sr_1_4?dib=eyJ2IjoiMSJ9.wQ9T254XRacqS5wcg7MgPBOc4rLQizUoKSvpZbyQc5ulpoaB7XQhiPUHsC08Q6UMLkvv_qlhmP2w58yUHJMYkN1rCb-E_x5Nev0IR3i31GDqkWXByiJBZNgt7R2GsuGq-NlbBB6UbhDaEFUwDCqqPrHNoOY3VGCm9BJNskWcLDk89LETmdv7RGtqBeyKaKTys5Vn2QPMMt4y3uyBhJlM4Ljswu2p8OeEdF3YgJsfvN4.W4vwYT4BQPbhd00IsSMvb7auhpacecuYAFNssDQlgew&dib_tag=se&keywords=mobile&qid=1727273767&sr=8-4',\n",
       " '/POCO-C65-Matte-Black-128GB/dp/B0CQG9N4Z3/ref=sr_1_5?dib=eyJ2IjoiMSJ9.wQ9T254XRacqS5wcg7MgPBOc4rLQizUoKSvpZbyQc5ulpoaB7XQhiPUHsC08Q6UMLkvv_qlhmP2w58yUHJMYkN1rCb-E_x5Nev0IR3i31GDqkWXByiJBZNgt7R2GsuGq-NlbBB6UbhDaEFUwDCqqPrHNoOY3VGCm9BJNskWcLDk89LETmdv7RGtqBeyKaKTys5Vn2QPMMt4y3uyBhJlM4Ljswu2p8OeEdF3YgJsfvN4.W4vwYT4BQPbhd00IsSMvb7auhpacecuYAFNssDQlgew&dib_tag=se&keywords=mobile&qid=1727273767&sr=8-5',\n",
       " 'https://aax-eu.amazon.in/x/c/JEAtyUfC828FGXzPkk4CfYkAAAGSKYoUIwMAAAH2AQBvbm9fdHhuX2JpZDMgICBvbm9fdHhuX2ltcDEgICDCFq1D/https://www.amazon.in/dp/B0D78WCNZZ?pd_rd_i=B0D78WCNZZ&pf_rd_p=288d7cd9-bdfb-4778-882a-c15de0f76151&pf_rd_r=SMH4W0469EVEWCHH78RD&pd_rd_wg=D6ukP&pd_rd_w=SYrZh&pd_rd_r=e4b3da19-a821-4a6e-b8a5-1b7f7c9ae2d5',\n",
       " '/POCO-C65-Pastel-Blue-128GB/dp/B0CQG4RX37/ref=sr_1_6?dib=eyJ2IjoiMSJ9.wQ9T254XRacqS5wcg7MgPBOc4rLQizUoKSvpZbyQc5ulpoaB7XQhiPUHsC08Q6UMLkvv_qlhmP2w58yUHJMYkN1rCb-E_x5Nev0IR3i31GDqkWXByiJBZNgt7R2GsuGq-NlbBB6UbhDaEFUwDCqqPrHNoOY3VGCm9BJNskWcLDk89LETmdv7RGtqBeyKaKTys5Vn2QPMMt4y3uyBhJlM4Ljswu2p8OeEdF3YgJsfvN4.W4vwYT4BQPbhd00IsSMvb7auhpacecuYAFNssDQlgew&dib_tag=se&keywords=mobile&qid=1727273767&sr=8-6',\n",
       " '/iQOO-Storage-Dimensity-Camera-Charger/dp/B07WHQS4LB/ref=sr_1_7?dib=eyJ2IjoiMSJ9.wQ9T254XRacqS5wcg7MgPBOc4rLQizUoKSvpZbyQc5ulpoaB7XQhiPUHsC08Q6UMLkvv_qlhmP2w58yUHJMYkN1rCb-E_x5Nev0IR3i31GDqkWXByiJBZNgt7R2GsuGq-NlbBB6UbhDaEFUwDCqqPrHNoOY3VGCm9BJNskWcLDk89LETmdv7RGtqBeyKaKTys5Vn2QPMMt4y3uyBhJlM4Ljswu2p8OeEdF3YgJsfvN4.W4vwYT4BQPbhd00IsSMvb7auhpacecuYAFNssDQlgew&dib_tag=se&keywords=mobile&qid=1727273767&sr=8-7',\n",
       " '/Redmi-Startrail-Storage-MediaTek-Dimensity/dp/B0CNX82VVQ/ref=sr_1_8?dib=eyJ2IjoiMSJ9.wQ9T254XRacqS5wcg7MgPBOc4rLQizUoKSvpZbyQc5ulpoaB7XQhiPUHsC08Q6UMLkvv_qlhmP2w58yUHJMYkN1rCb-E_x5Nev0IR3i31GDqkWXByiJBZNgt7R2GsuGq-NlbBB6UbhDaEFUwDCqqPrHNoOY3VGCm9BJNskWcLDk89LETmdv7RGtqBeyKaKTys5Vn2QPMMt4y3uyBhJlM4Ljswu2p8OeEdF3YgJsfvN4.W4vwYT4BQPbhd00IsSMvb7auhpacecuYAFNssDQlgew&dib_tag=se&keywords=mobile&qid=1727273767&sr=8-8',\n",
       " '/realme-Storage-Comfort-Resistance-48-Month/dp/B0D947DTLT/ref=sr_1_9?dib=eyJ2IjoiMSJ9.wQ9T254XRacqS5wcg7MgPBOc4rLQizUoKSvpZbyQc5ulpoaB7XQhiPUHsC08Q6UMLkvv_qlhmP2w58yUHJMYkN1rCb-E_x5Nev0IR3i31GDqkWXByiJBZNgt7R2GsuGq-NlbBB6UbhDaEFUwDCqqPrHNoOY3VGCm9BJNskWcLDk89LETmdv7RGtqBeyKaKTys5Vn2QPMMt4y3uyBhJlM4Ljswu2p8OeEdF3YgJsfvN4.W4vwYT4BQPbhd00IsSMvb7auhpacecuYAFNssDQlgew&dib_tag=se&keywords=mobile&qid=1727273767&sr=8-9',\n",
       " '/Starfrost-Storage-Powered-MediaTek-Display/dp/B0CMTY5P4V/ref=sr_1_10?dib=eyJ2IjoiMSJ9.wQ9T254XRacqS5wcg7MgPBOc4rLQizUoKSvpZbyQc5ulpoaB7XQhiPUHsC08Q6UMLkvv_qlhmP2w58yUHJMYkN1rCb-E_x5Nev0IR3i31GDqkWXByiJBZNgt7R2GsuGq-NlbBB6UbhDaEFUwDCqqPrHNoOY3VGCm9BJNskWcLDk89LETmdv7RGtqBeyKaKTys5Vn2QPMMt4y3uyBhJlM4Ljswu2p8OeEdF3YgJsfvN4.W4vwYT4BQPbhd00IsSMvb7auhpacecuYAFNssDQlgew&dib_tag=se&keywords=mobile&qid=1727273767&sr=8-10',\n",
       " '/sspa/click?ie=UTF8&spc=MTozNDY4NDQ1NzY0MjQzNDc1OjE3MjcyNzM3Njc6c3BfbXRmOjMwMDMzNjk5NTE4OTIzMjo6MDo6&url=%2Frealme-Segments-Dimensity-Motorsports-Inspired%2Fdp%2FB0DDTXJ2MX%2Fref%3Dsr_1_11_sspa%3Fdib%3DeyJ2IjoiMSJ9.wQ9T254XRacqS5wcg7MgPBOc4rLQizUoKSvpZbyQc5ulpoaB7XQhiPUHsC08Q6UMLkvv_qlhmP2w58yUHJMYkN1rCb-E_x5Nev0IR3i31GDqkWXByiJBZNgt7R2GsuGq-NlbBB6UbhDaEFUwDCqqPrHNoOY3VGCm9BJNskWcLDk89LETmdv7RGtqBeyKaKTys5Vn2QPMMt4y3uyBhJlM4Ljswu2p8OeEdF3YgJsfvN4.W4vwYT4BQPbhd00IsSMvb7auhpacecuYAFNssDQlgew%26dib_tag%3Dse%26keywords%3Dmobile%26qid%3D1727273767%26sr%3D8-11-spons%26sp_csd%3Dd2lkZ2V0TmFtZT1zcF9tdGY%26psc%3D1',\n",
       " '/sspa/click?ie=UTF8&spc=MTozNDY4NDQ1NzY0MjQzNDc1OjE3MjcyNzM3Njc6c3BfbXRmOjMwMDE0MTY1NTY3MzYzMjo6MDo6&url=%2FiQOO-Conqueror-Snapdragon-processor-Supercomputing%2Fdp%2FB07WFPLWFB%2Fref%3Dsr_1_12_sspa%3Fdib%3DeyJ2IjoiMSJ9.wQ9T254XRacqS5wcg7MgPBOc4rLQizUoKSvpZbyQc5ulpoaB7XQhiPUHsC08Q6UMLkvv_qlhmP2w58yUHJMYkN1rCb-E_x5Nev0IR3i31GDqkWXByiJBZNgt7R2GsuGq-NlbBB6UbhDaEFUwDCqqPrHNoOY3VGCm9BJNskWcLDk89LETmdv7RGtqBeyKaKTys5Vn2QPMMt4y3uyBhJlM4Ljswu2p8OeEdF3YgJsfvN4.W4vwYT4BQPbhd00IsSMvb7auhpacecuYAFNssDQlgew%26dib_tag%3Dse%26keywords%3Dmobile%26qid%3D1727273767%26sr%3D8-12-spons%26sp_csd%3Dd2lkZ2V0TmFtZT1zcF9tdGY%26psc%3D1',\n",
       " '/POCO-Pastel-Green-128GB-Storage/dp/B0CY299SKS/ref=sr_1_13?dib=eyJ2IjoiMSJ9.wQ9T254XRacqS5wcg7MgPBOc4rLQizUoKSvpZbyQc5ulpoaB7XQhiPUHsC08Q6UMLkvv_qlhmP2w58yUHJMYkN1rCb-E_x5Nev0IR3i31GDqkWXByiJBZNgt7R2GsuGq-NlbBB6UbhDaEFUwDCqqPrHNoOY3VGCm9BJNskWcLDk89LETmdv7RGtqBeyKaKTys5Vn2QPMMt4y3uyBhJlM4Ljswu2p8OeEdF3YgJsfvN4.W4vwYT4BQPbhd00IsSMvb7auhpacecuYAFNssDQlgew&dib_tag=se&keywords=mobile&qid=1727273767&sr=8-13',\n",
       " '/realme-Leather-Storage-5000mAh-Durable/dp/B0D54DBLRV/ref=sr_1_14?dib=eyJ2IjoiMSJ9.wQ9T254XRacqS5wcg7MgPBOc4rLQizUoKSvpZbyQc5ulpoaB7XQhiPUHsC08Q6UMLkvv_qlhmP2w58yUHJMYkN1rCb-E_x5Nev0IR3i31GDqkWXByiJBZNgt7R2GsuGq-NlbBB6UbhDaEFUwDCqqPrHNoOY3VGCm9BJNskWcLDk89LETmdv7RGtqBeyKaKTys5Vn2QPMMt4y3uyBhJlM4Ljswu2p8OeEdF3YgJsfvN4.W4vwYT4BQPbhd00IsSMvb7auhpacecuYAFNssDQlgew&dib_tag=se&keywords=mobile&qid=1727273767&sr=8-14',\n",
       " '/POCO-C61-Ethereal-Blue-64GB/dp/B0CYBLHZPW/ref=sr_1_15?dib=eyJ2IjoiMSJ9.wQ9T254XRacqS5wcg7MgPBOc4rLQizUoKSvpZbyQc5ulpoaB7XQhiPUHsC08Q6UMLkvv_qlhmP2w58yUHJMYkN1rCb-E_x5Nev0IR3i31GDqkWXByiJBZNgt7R2GsuGq-NlbBB6UbhDaEFUwDCqqPrHNoOY3VGCm9BJNskWcLDk89LETmdv7RGtqBeyKaKTys5Vn2QPMMt4y3uyBhJlM4Ljswu2p8OeEdF3YgJsfvN4.W4vwYT4BQPbhd00IsSMvb7auhpacecuYAFNssDQlgew&dib_tag=se&keywords=mobile&qid=1727273767&sr=8-15',\n",
       " '/Redmi-Starlight-Storage-MediaTek-Dimensity/dp/B0CNX89QR8/ref=sr_1_16?dib=eyJ2IjoiMSJ9.wQ9T254XRacqS5wcg7MgPBOc4rLQizUoKSvpZbyQc5ulpoaB7XQhiPUHsC08Q6UMLkvv_qlhmP2w58yUHJMYkN1rCb-E_x5Nev0IR3i31GDqkWXByiJBZNgt7R2GsuGq-NlbBB6UbhDaEFUwDCqqPrHNoOY3VGCm9BJNskWcLDk89LETmdv7RGtqBeyKaKTys5Vn2QPMMt4y3uyBhJlM4Ljswu2p8OeEdF3YgJsfvN4.W4vwYT4BQPbhd00IsSMvb7auhpacecuYAFNssDQlgew&dib_tag=se&keywords=mobile&qid=1727273767&sr=8-16',\n",
       " '/OnePlus-Super-Silver-128GB-Storage/dp/B0D5YCYS1G/ref=sr_1_17?dib=eyJ2IjoiMSJ9.wQ9T254XRacqS5wcg7MgPBOc4rLQizUoKSvpZbyQc5ulpoaB7XQhiPUHsC08Q6UMLkvv_qlhmP2w58yUHJMYkN1rCb-E_x5Nev0IR3i31GDqkWXByiJBZNgt7R2GsuGq-NlbBB6UbhDaEFUwDCqqPrHNoOY3VGCm9BJNskWcLDk89LETmdv7RGtqBeyKaKTys5Vn2QPMMt4y3uyBhJlM4Ljswu2p8OeEdF3YgJsfvN4.W4vwYT4BQPbhd00IsSMvb7auhpacecuYAFNssDQlgew&dib_tag=se&keywords=mobile&qid=1727273767&sr=8-17',\n",
       " '/Redmi-Startrail-Storage-MediaTek-Dimensity/dp/B0CNX6WVG5/ref=sr_1_18?dib=eyJ2IjoiMSJ9.wQ9T254XRacqS5wcg7MgPBOc4rLQizUoKSvpZbyQc5ulpoaB7XQhiPUHsC08Q6UMLkvv_qlhmP2w58yUHJMYkN1rCb-E_x5Nev0IR3i31GDqkWXByiJBZNgt7R2GsuGq-NlbBB6UbhDaEFUwDCqqPrHNoOY3VGCm9BJNskWcLDk89LETmdv7RGtqBeyKaKTys5Vn2QPMMt4y3uyBhJlM4Ljswu2p8OeEdF3YgJsfvN4.W4vwYT4BQPbhd00IsSMvb7auhpacecuYAFNssDQlgew&dib_tag=se&keywords=mobile&qid=1727273767&sr=8-18',\n",
       " '/Motorola-Brilliant-Blue-128GB-Storage/dp/B0DDY9HMJG/ref=sr_1_19?dib=eyJ2IjoiMSJ9.wQ9T254XRacqS5wcg7MgPBOc4rLQizUoKSvpZbyQc5ulpoaB7XQhiPUHsC08Q6UMLkvv_qlhmP2w58yUHJMYkN1rCb-E_x5Nev0IR3i31GDqkWXByiJBZNgt7R2GsuGq-NlbBB6UbhDaEFUwDCqqPrHNoOY3VGCm9BJNskWcLDk89LETmdv7RGtqBeyKaKTys5Vn2QPMMt4y3uyBhJlM4Ljswu2p8OeEdF3YgJsfvN4.W4vwYT4BQPbhd00IsSMvb7auhpacecuYAFNssDQlgew&dib_tag=se&keywords=mobile&qid=1727273767&sr=8-19',\n",
       " '/POCO-Orion-Blue-128GB-Storage/dp/B0CQVRKCSY/ref=sr_1_20?dib=eyJ2IjoiMSJ9.wQ9T254XRacqS5wcg7MgPBOc4rLQizUoKSvpZbyQc5ulpoaB7XQhiPUHsC08Q6UMLkvv_qlhmP2w58yUHJMYkN1rCb-E_x5Nev0IR3i31GDqkWXByiJBZNgt7R2GsuGq-NlbBB6UbhDaEFUwDCqqPrHNoOY3VGCm9BJNskWcLDk89LETmdv7RGtqBeyKaKTys5Vn2QPMMt4y3uyBhJlM4Ljswu2p8OeEdF3YgJsfvN4.W4vwYT4BQPbhd00IsSMvb7auhpacecuYAFNssDQlgew&dib_tag=se&keywords=mobile&qid=1727273767&sr=8-20',\n",
       " '/sspa/click?ie=UTF8&spc=MTozNDY4NDQ1NzY0MjQzNDc1OjE3MjcyNzM3Njc6c3BfYnRmOjMwMDI5NTc4MDE0NTczMjo6MDo6&url=%2FRedmi-Orchid-Largest-Display-Segment%2Fdp%2FB0D78W2HF5%2Fref%3Dsr_1_21_sspa%3Fdib%3DeyJ2IjoiMSJ9.wQ9T254XRacqS5wcg7MgPBOc4rLQizUoKSvpZbyQc5ulpoaB7XQhiPUHsC08Q6UMLkvv_qlhmP2w58yUHJMYkN1rCb-E_x5Nev0IR3i31GDqkWXByiJBZNgt7R2GsuGq-NlbBB6UbhDaEFUwDCqqPrHNoOY3VGCm9BJNskWcLDk89LETmdv7RGtqBeyKaKTys5Vn2QPMMt4y3uyBhJlM4Ljswu2p8OeEdF3YgJsfvN4.W4vwYT4BQPbhd00IsSMvb7auhpacecuYAFNssDQlgew%26dib_tag%3Dse%26keywords%3Dmobile%26qid%3D1727273767%26sr%3D8-21-spons%26sp_csd%3Dd2lkZ2V0TmFtZT1zcF9idGY%26psc%3D1',\n",
       " '/sspa/click?ie=UTF8&spc=MTozNDY4NDQ1NzY0MjQzNDc1OjE3MjcyNzM3Njc6c3BfYnRmOjMwMDExODY0NjI2NDczMjo6MDo6&url=%2FRedmi-Stealth-Bezel-Less-Slimmest-Pro-Grade%2Fdp%2FB0CQPHMWR3%2Fref%3Dsr_1_22_sspa%3Fdib%3DeyJ2IjoiMSJ9.wQ9T254XRacqS5wcg7MgPBOc4rLQizUoKSvpZbyQc5ulpoaB7XQhiPUHsC08Q6UMLkvv_qlhmP2w58yUHJMYkN1rCb-E_x5Nev0IR3i31GDqkWXByiJBZNgt7R2GsuGq-NlbBB6UbhDaEFUwDCqqPrHNoOY3VGCm9BJNskWcLDk89LETmdv7RGtqBeyKaKTys5Vn2QPMMt4y3uyBhJlM4Ljswu2p8OeEdF3YgJsfvN4.W4vwYT4BQPbhd00IsSMvb7auhpacecuYAFNssDQlgew%26dib_tag%3Dse%26keywords%3Dmobile%26qid%3D1727273767%26sr%3D8-22-spons%26sp_csd%3Dd2lkZ2V0TmFtZT1zcF9idGY%26psc%3D1',\n",
       " 'https://aax-eu.amazon.in/x/c/JDCYibCszoin2mG0h2zPalwAAAGSKYoUIQMAAAH2AQBvbm9fdHhuX2JpZDIgICBvbm9fdHhuX2ltcDEgICAoU-Uu/https://www.amazon.in/dp/B0797ZP4ZV?pd_rd_i=B0797ZP4ZV&pf_rd_p=3353ca56-2043-45f1-9c2e-99dccef31d9d&pf_rd_r=SMH4W0469EVEWCHH78RD&pd_rd_wg=ptTnc&pd_rd_w=XOVyG&pd_rd_r=aeb7df66-931b-4109-b88b-e20cb2b0f7ce',\n",
       " '/s?k=mobile+vivo&ref=rsl_sug_0_0&pd_rd_w=GdZ1w&content-id=amzn1.sym.1b1b0b91-2ab4-483a-868c-962b0b7a6297:amzn1.sym.1b1b0b91-2ab4-483a-868c-962b0b7a6297&pf_rd_p=1b1b0b91-2ab4-483a-868c-962b0b7a6297&pf_rd_r=SMH4W0469EVEWCHH78RD&pd_rd_wg=ptTnc&pd_rd_r=aeb7df66-931b-4109-b88b-e20cb2b0f7ce&qid=1727273767',\n",
       " 'https://aax-eu.amazon.in/x/c/JA0b9JXZjGx5IKOYTSBBZboAAAGSKYoU9gMAAAH2AQBvbm9fdHhuX2JpZDEgICBvbm9fdHhuX2ltcDEgICBab2X4/https://www.amazon.in/stores/page/D4FF818A-6C20-480D-960F-8ABAA178C71B/?_encoding=UTF8&store_ref=SB_A1034153KHL56M2RAWLC-A016707833EA2OADGJBS6&pd_rd_plhdr=t&aaxitk=067d11349f9fe49292c6a62faa753564&hsa_cr_id=0&lp_asins=B0DDTZF6G1%2CB0DDTXJ2MX%2CB0DDTXW9WH&lp_query=mobile&lp_slot=desktop-hsa-3psl&ref_=sbx_be_s_3psl_mbd_mb0_bkgd&pd_rd_w=mHbwG&content-id=amzn1.sym.f1a4d09d-a292-48da-a86f-03294c9a41ef%3Aamzn1.sym.f1a4d09d-a292-48da-a86f-03294c9a41ef&pf_rd_p=f1a4d09d-a292-48da-a86f-03294c9a41ef&pf_rd_r=SMH4W0469EVEWCHH78RD&pd_rd_wg=hILoS&pd_rd_r=a6876abb-c63e-4bfe-b111-a041ccc319bc',\n",
       " '/gp/help/customer/display.html?nodeId=201889520']"
      ]
     },
     "execution_count": 33,
     "metadata": {},
     "output_type": "execute_result"
    }
   ],
   "source": [
    "url = 'https://www.amazon.in/s?k=mobile'\n",
    "get_url_list_from_amazon(url) "
   ]
  },
  {
   "cell_type": "markdown",
   "metadata": {},
   "source": [
    "database setup"
   ]
  },
  {
   "cell_type": "code",
   "execution_count": 43,
   "metadata": {},
   "outputs": [],
   "source": [
    "from sqlalchemy import create_engine\n",
    "from sqlalchemy.orm import sessionmaker, declarative_base\n",
    "from sqlalchemy import Column, Integer, String, Boolean\n",
    "\n",
    "Base = declarative_base()\n",
    "\n",
    "class Product(Base):\n",
    "    __tablename__ = 'products'\n",
    "    id = Column(Integer, primary_key=True)\n",
    "    url = Column(String)\n",
    "    title = Column(String)\n",
    "    sprice = Column(String)\n",
    "    oprice = Column(String)\n",
    "    reviews = Column(String)\n",
    "\n",
    "engine = create_engine('sqlite:///amazon.db')\n",
    "Base.metadata.create_all(engine)\n",
    "\n",
    "def opendb():\n",
    "    engine = create_engine('sqlite:///amazon.db')\n",
    "    Session = sessionmaker(bind=engine)\n",
    "    session = Session()\n",
    "    return session"
   ]
  },
  {
   "cell_type": "code",
   "execution_count": 41,
   "metadata": {},
   "outputs": [],
   "source": [
    "def get_details_from_url(product_url):\n",
    "    if 'html' in product_url:\n",
    "        return None\n",
    "    if product_url.startswith('/'):\n",
    "        base_url = 'https://www.amazon.in'\n",
    "        product_url = base_url + product_url\n",
    "    sc = Scraper(product_url)\n",
    "    product = sc.get_data_from_page(\n",
    "        name = Tag('h1', id='title'),\n",
    "        sprice = Tag('span', cls='priceToPay'),\n",
    "        oprice = Tag('span', cls='a-price a-text-price'),\n",
    "        reviews = Tag('span', id='acrCustomerReviewText'),\n",
    "    )\n",
    "    return product"
   ]
  },
  {
   "cell_type": "code",
   "execution_count": 45,
   "metadata": {},
   "outputs": [
    {
     "name": "stdout",
     "output_type": "stream",
     "text": [
      "Product details added to database\n",
      "Product details added to database\n",
      "Product details added to database\n",
      "Product details added to database\n",
      "Product details added to database\n",
      "Product details added to database\n",
      "Product details added to database\n",
      "Product details added to database\n",
      "Product details added to database\n",
      "Product details added to database\n",
      "Product details added to database\n",
      "Product details added to database\n",
      "Product details added to database\n",
      "Product details added to database\n",
      "Product details added to database\n"
     ]
    },
    {
     "ename": "TypeError",
     "evalue": "'NoneType' object is not subscriptable",
     "output_type": "error",
     "traceback": [
      "\u001b[1;31m---------------------------------------------------------------------------\u001b[0m",
      "\u001b[1;31mTypeError\u001b[0m                                 Traceback (most recent call last)",
      "Cell \u001b[1;32mIn[45], line 3\u001b[0m\n\u001b[0;32m      1\u001b[0m \u001b[38;5;28;01mfor\u001b[39;00m product_url \u001b[38;5;129;01min\u001b[39;00m get_url_list_from_amazon(url):\n\u001b[0;32m      2\u001b[0m     product \u001b[38;5;241m=\u001b[39m get_details_from_url(product_url)\n\u001b[1;32m----> 3\u001b[0m     \u001b[38;5;28;01mif\u001b[39;00m \u001b[43mproduct\u001b[49m\u001b[43m[\u001b[49m\u001b[38;5;124;43m'\u001b[39;49m\u001b[38;5;124;43mname\u001b[39;49m\u001b[38;5;124;43m'\u001b[39;49m\u001b[43m]\u001b[49m \u001b[38;5;129;01mis\u001b[39;00m \u001b[38;5;28;01mNone\u001b[39;00m:\n\u001b[0;32m      4\u001b[0m         \u001b[38;5;28;01mcontinue\u001b[39;00m\n\u001b[0;32m      5\u001b[0m     db \u001b[38;5;241m=\u001b[39m opendb()\n",
      "\u001b[1;31mTypeError\u001b[0m: 'NoneType' object is not subscriptable"
     ]
    }
   ],
   "source": [
    "for product_url in get_url_list_from_amazon(url):\n",
    "    product = get_details_from_url(product_url)\n",
    "    if not product:\n",
    "        continue\n",
    "    if not product['name']:\n",
    "        continue\n",
    "    db = opendb()\n",
    "    item = Product(\n",
    "        url = product_url,\n",
    "        title = product['name'].strip(),\n",
    "        sprice = product['sprice'].strip(),\n",
    "        oprice = product['oprice'].strip(),\n",
    "        reviews = product['reviews'].strip(),\n",
    "    )\n",
    "    db.add(item)\n",
    "    db.commit()\n",
    "    print(\"Product details added to database\")\n",
    "db.close()"
   ]
  },
  {
   "cell_type": "code",
   "execution_count": null,
   "metadata": {},
   "outputs": [],
   "source": []
  }
 ],
 "metadata": {
  "kernelspec": {
   "display_name": "base",
   "language": "python",
   "name": "python3"
  },
  "language_info": {
   "codemirror_mode": {
    "name": "ipython",
    "version": 3
   },
   "file_extension": ".py",
   "mimetype": "text/x-python",
   "name": "python",
   "nbconvert_exporter": "python",
   "pygments_lexer": "ipython3",
   "version": "3.12.2"
  }
 },
 "nbformat": 4,
 "nbformat_minor": 2
}
