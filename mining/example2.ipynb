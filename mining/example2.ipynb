{
 "cells": [
  {
   "cell_type": "code",
   "execution_count": 1,
   "metadata": {},
   "outputs": [],
   "source": [
    "from dputils.scrape import Scraper, Tag"
   ]
  },
  {
   "cell_type": "code",
   "execution_count": 5,
   "metadata": {},
   "outputs": [],
   "source": [
    "url ='https://www.flipkart.com/oppo-enco-buds-2-28-hours-battery-life-deep-noise-cancellation-bluetooth/p/itm3344fa26518ed?pid=ACCGH7YZY6AHGCHJ&lid=LSTACCGH7YZY6AHGCHJHLWF41&marketplace=FLIPKART&store=0pm%2Ffcn&srno=b_1_13&otracker=browse&fm=organic&iid=41db010d-06d9-40c3-b5ac-e4e116ab9637.ACCGH7YZY6AHGCHJ.SEARCH&ppt=hp&ppn=homepage&ssid=8xlqlatiw00000001727187538451'\n",
    "sc = Scraper(url)"
   ]
  },
  {
   "cell_type": "code",
   "execution_count": 6,
   "metadata": {},
   "outputs": [
    {
     "data": {
      "text/plain": [
       "\"  OPPO Enco Buds 2 with 28 hours Battery life & Deep Noise Cancellation Bluetooth Price in India - Buy OPPO Enco Buds 2 with 28 hours Battery life & Deep Noise Cancellation Bluetooth Online - OPPO : Flipkart.com       Explore PlusLoginBecome a Seller More CartAdd to cart Buy NowHomeAudio & VideoHeadsetEarphonesWireless EarphonesTrue WirelessOPPO True WirelessOPPO Enco Buds 2 with 28 hours Battery life & Deep Noise Cancellation Bluetooth (Midnight, True Wireless)\\nCompareShareOPPO Enco Buds 2 with 28 hours Battery life & Deep Noise Cancellation Bluetooth\\xa0\\xa0(Midnight, True Wireless)4.33,45,780 Ratings\\xa0&\\xa032,096 ReviewsSpecial price₹1,499₹3,99962% offiAvailable offersBank Offer5% Unlimited Cashback on Flipkart Axis Bank Credit CardT&CSpecial PriceGet extra 31% off (price inclusive of cashback/coupon)T&CBuy together get 3% OFFT&CBuy together get 3% OFFT&CView 4 more offers1 Year Manufacturer WarrantyKnow MoreDeliveryCheckEnter pincodeCurrently out of stock in this area.ColorLilac blueMidnightWhitePlease select a Color to proceed✕HighlightsWith Mic:YesBluetooth version: 5.2Battery life: 28 hrs | Charging time: 1.5 hrs10mm Dynamic Bass Boost Driver - Powerful & Rhythmic BassEnco Live Stereo Sound EffectsAI Deep Noise Cancellation | 80ms Ultra Low Latency game modeIntelligent Touch Controls | IPX4 Water ResistantServices1 Year Manufacturer WarrantySellerBUZZINDIA3.97 Days Service Center Replacement/Repair?GST invoice available?See other sellersSpecificationsGeneralModel IDEnco Buds 2ColorMidnightHeadphone TypeTrue WirelessInline RemoteYesSales Package1 Pair of Earbud with Charging Case, Earbud Tips, User ManualConnectivityBluetoothHeadphone DesignEarbudCompatible DevicesMobile, Laptop, TabletProduct DetailsSweat ProofYesFoldable/CollapsibleNoDeep BassYesWater ResistantYesMonauralYesDesigned ForSmartphones, Laptops, Smart TVs, TabletsControlsDouble Tap: Play Music: Next Track. Call: Answer/Hang up the Call. Camera Control: Take a Photo. Triple Tap: Previous Track. Touch and Hold: The Left Earbud for 1s: Volume Down. The Right Earbud for 1s: Volume up. Both Earbuds for 4s when Wearing the Earbuds: Enter Pairing Mode. When Camera is Open, Double Tap either Earbud to take PhotosOther Features10 mm Large Titanized Driver (Stronger Bass); Enco Live Stereo Sound Effects (More Sound Effects); Up to 28 Hours of Listening Time (Longer Battery Life); AI Deep Noise Cancellation for Calls (Clear Calls); Binaural Low-latency with Bluetooth 5.2 Transmission (Faster and more Stable); Double-tap to Control Camera (More new Scenes).Headphone Driver Units10 mmWith MicrophoneYesConnectivity FeaturesBluetooth Version5.2Battery Life28 hrsBattery Capacity460 mAhCharging Time1.5Play Time28 hrsWarrantyDomestic Warranty1 YearWarranty Summary1 Year Manufacturer WarrantyWarranty Service TypeContact : Ph : 1800-103-2777 / Mail : service@oppomobile.inCovered in WarrantyManufacturing DefectsNot Covered in WarrantyWater Damage, Broken or Tampered Defects.Read MoreRatings & ReviewsRate Product4.3★3,45,780 Ratings &32,096 Reviews5★4★3★2★1★2,05,90882,42223,3159,05125,0844.2Sound Quality4.1Bass4.1Design & Build4.1Battery Backup+ 105885Awesome1. Clear sound quality with extreme loudness(I didn't use it above 50% volume indoor) 2. Great bass  ( I used oppo enco buds and  bot rockerz 255 pro +  but this earbuds sounds way more  better)3. Battery backup : 6.5 hrs for earbuds  , takes 60min for earbuds and 1.5 hr for case to get completely charge. No indication to understand case charging.4. Touch controls: not that much fast but works perfectly.5. App supports: gives 3 modes  , bass boosted , balence and clear vocals.case chargin...READ MOREFlipkart CustomerCertified Buyer, Pune DistrictSep, 20223998634PermalinkReport Abuse4Pretty goodThis product got delivered today in the morning and here is my review. 1.Product quality is very good. The case is very handy and the size of the buds are accurate. 2.Buds are really comfortable and do not give pain to ears. I used it 3-4 hours straight. Faced no problem. 3. I used this for listening music, playing games and calling. The bass is quite pumpy yet balanced. I used this with Hey Melody app and experience was good. 4. Touch controls and pairing are too fast and you just have ...READ MORENellabh SrivastavCertified Buyer, Gautam Buddha NagarSep, 20221669338PermalinkReport Abuse4DelightfulPros:-1-very loud which not only increases battery life but also makes listening great.2- Bass is punchy. I have used the previous enco buds. This has way better bass than its predecessor.3- Although bass is high it doesn't suppress the vocal. Overall sound is great in this price range.4- it provides modes for your choice of music in hey melody app which was not present in the enco buds.5- battery life is actually good. Probably lasts 6 to 7 hours.Cons:-1- Although design quality is...READ MORERudra prasad MishraCertified Buyer, KhordhaSep, 20221143231PermalinkReport Abuse4Good quality productOne of the best tws I have ever bought, I personally like the clear vocals feature ,must buy this sound quality is awesomeREAD MOREFlipkart CustomerCertified Buyer, ChakradharpurFeb, 202346188PermalinkReport Abuse5Worth every pennyNice best sound effectREAD MOREFlipkart CustomerCertified Buyer, ChennaiSep, 202220130PermalinkReport Abuse4WonderfulBattery 🔋 is ok but it so small case like a Oreo biscuit size so slippery But over all value for money the best sound quality the best bass on it Nise product fully satisfied with this product in this budget segment 👍READ MOREKanukula VenuCertified Buyer, HyderabadSep, 202234168PermalinkReport Abuse5BrilliantOsm product 😍😍READ MORERavi lucky Certified Buyer, NarasapurOct, 2022604110PermalinkReport Abuse4Nice productSuper product just go for it 🔥READ MOREVarun BruceleeCertified Buyer, HaliyaMar, 20239314PermalinkReport Abuse5BrilliantI loved it literally I have no words 🤯🔥READ MOREFlipkart CustomerCertified Buyer, RaipurMar, 202321635PermalinkReport Abuse4DelightfulVery Good, amazing soundsREAD MOREKunal  KumarCertified Buyer, Kodarma DistrictSep, 2022456PermalinkReport Abuse+All 32096 reviewsQuestions and AnswersQ:How I know the case charge persentage?A:Place Earbuds in case that after check in hey melody appBharat BarotCertified Buyer12347Report AbuseRead other answersQ:Does it have finger sensor?A:Yes and you can also minimise it with HEY melody appAditya Kumar YadavCertified Buyer14443Report AbuseRead other answersQ:How is the calling quality?A:Outdoor Sound quality is very badRahul RanmaleCertified Buyer12727Report AbuseRead other answersQ:Does it works with iphoneA:So it will connect the iphone but you cant use the hey melody app in ios as android i have same issue but its no issue you can use it with any problem .AnonymousCertified Buyer43Report AbuseRead other answersQ:Is it support redmi note 8 pro phoneA:yes.AnonymousCertified Buyer131Report AbuseQ:Dolby atmos working productA:Worst sound quality whether it have Dolby Atmos have or notShivam RaiCertified Buyer348Report AbuseRead other answersQ:How to check battery level of the case..A:Open HeyMelody App, Keep any of the buds inside the case while its connected to phone and keep lid also open. Charging percentage will appear along with left and right budsAnonymousCertified Buyer31Report AbuseRead other answersQ:I am having a 80 watt charger and a power bank too. Which is more suitable for it to charge?A:Dont charge it from 80 watt charger always used maxium 10 to 18 watt charger for long battery lifeKUNAL KUMAR SINGHCertified Buyer4312Report AbuseRead other answersQ:Can we manage noise cancellation through hey melody app?A:No noise cancellation.Saurav DattaCertified Buyer142Report AbuseQ:Is noice cancellation work wellA:Not working even it will disturbe the others.  It has highest amount sound leakageShivam RaiCertified Buyer102Report AbuseRead other answersAll questions+Safe and Secure Payments.Easy returns.100% Authentic products.Top Stories:Brand DirectoryMOST SEARCHED IN Audio & Video:APPLE TV INDIAINTEX 5.1 HOME THEATER3D GLASSES FOR PCDVD PLAYERCHROME CASTSAMSUNG TV PRICE LISTHOMETHEATERLG DVD PLAYERMOBILEFUN INDIAMOBILE BLUETOOTHHEADPHONE SPLITTERAUDIO TECHNICA HEADPHONESJBL HEADPHONES INDIAHEADPHONE ONLINESENNHEISER EARPHONESSONY HEADSETSUSB TO USB CABLEJBL PORTABLE SPEAKERSBLUETOOTH SPEAKERSONY EARPHONESSAMSUNG NEW ARRIVALSINTEX  4 1 SPEAKERSSONY TV REMOTELENOVO TABLET PRICE IN INDIATABLET PHONE PRICESONY HEADPHONES ONLINEABOUTContact UsAbout UsCareersFlipkart StoriesPressCorporate InformationGROUP COMPANIESMyntraCleartripShopsyHELPPaymentsShippingCancellation & ReturnsFAQReport InfringementCONSUMER POLICYCancellation & ReturnsTerms Of UseSecurityPrivacySitemapGrievance RedressalEPR ComplianceMail Us:Flipkart Internet Private Limited, \\n Buildings Alyssa, Begonia & \\n Clove Embassy Tech Village, \\n Outer Ring Road, Devarabeesanahalli Village, \\n Bengaluru, 560103, \\n Karnataka, India\\nSocialRegistered Office Address:Flipkart Internet Private Limited, \\n Buildings Alyssa, Begonia & \\n Clove Embassy Tech Village, \\n Outer Ring Road, Devarabeesanahalli Village, \\n Bengaluru, 560103, \\n Karnataka, India \\n CIN : U51109KA2012PTC066107 \\n Telephone: 044-45614700 / 044-67415800\\nBecome a SellerAdvertiseGift CardsHelp Center© 2007-2024 Flipkart.comBack to top    \\n\""
      ]
     },
     "execution_count": 6,
     "metadata": {},
     "output_type": "execute_result"
    }
   ],
   "source": [
    "sc.soup.text"
   ]
  },
  {
   "cell_type": "code",
   "execution_count": 16,
   "metadata": {},
   "outputs": [
    {
     "data": {
      "text/plain": [
       "{'title': 'OPPO Enco Buds 2 with 28 hours Battery life & Deep Noise Cancellation Bluetooth\\xa0\\xa0(Midnight, True Wireless)',\n",
       " 'price': '₹1,499',\n",
       " 'discount': '62% off',\n",
       " 'rr_count': '3,45,780 Ratings\\xa0&\\xa032,096 Reviews',\n",
       " 'img_url': 'https://rukminim2.flixcart.com/image/416/416/xif0q/headphone/p/r/z/enco-buds-2-oppo-original-imagh9frfp7gxdb3.jpeg?q=70&crop=false'}"
      ]
     },
     "execution_count": 16,
     "metadata": {},
     "output_type": "execute_result"
    }
   ],
   "source": [
    "title = Tag('h1')\n",
    "price = Tag('div', cls='Nx9bqj CxhGGd')\n",
    "discount = Tag('div', cls='UkUFwK WW8yVX')\n",
    "rating_reviews = Tag('span', cls='Wphh3N')\n",
    "img = Tag('img', cls='DByuf4 IZexXJ jLEJ7H', output='src')\n",
    "sc.get_data_from_page(title=title,\n",
    "    price=price,\n",
    "    discount = discount,\n",
    "    rr_count = rating_reviews,\n",
    "    img_url = img,\n",
    ")"
   ]
  },
  {
   "cell_type": "code",
   "execution_count": null,
   "metadata": {},
   "outputs": [],
   "source": []
  }
 ],
 "metadata": {
  "kernelspec": {
   "display_name": "base",
   "language": "python",
   "name": "python3"
  },
  "language_info": {
   "codemirror_mode": {
    "name": "ipython",
    "version": 3
   },
   "file_extension": ".py",
   "mimetype": "text/x-python",
   "name": "python",
   "nbconvert_exporter": "python",
   "pygments_lexer": "ipython3",
   "version": "3.12.2"
  }
 },
 "nbformat": 4,
 "nbformat_minor": 2
}
