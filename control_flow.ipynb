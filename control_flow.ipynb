{
 "cells": [
  {
   "cell_type": "markdown",
   "metadata": {},
   "source": [
    "# control flow\n",
    "### condition\n",
    "- if\n",
    "- if else\n",
    "- if elif ladder\n",
    "- match case\n",
    "- nested if\n",
    "### loops\n",
    "- for loop\n",
    "- while loop"
   ]
  },
  {
   "cell_type": "markdown",
   "metadata": {},
   "source": [
    "**syntax**:\n",
    "```python\n",
    "if expression:\n",
    "    statement 1\n",
    "    statement 2\n",
    "    ...\n",
    "    statement n\n",
    "```\n",
    "\n",
    "```python\n",
    "if expression:\n",
    "    ...\n",
    "else:\n",
    "    ...\n",
    "```"
   ]
  },
  {
   "cell_type": "code",
   "execution_count": null,
   "metadata": {},
   "outputs": [],
   "source": [
    "x = 10\n",
    "if x >= 5:\n",
    "    print(\"😎 very nice\")\n",
    "\n",
    "y = 2\n",
    "if x > 5 and y < 5:\n",
    "    print(\"🪲🐞 no bug here\")\n",
    "\n",
    "name = \"jenny\"\n",
    "if name:\n",
    "    print(\"Name exists\")"
   ]
  },
  {
   "cell_type": "code",
   "execution_count": null,
   "metadata": {},
   "outputs": [],
   "source": [
    "a = 'asjdak'\n",
    "if len(a):\n",
    "    print(\"a is not empty\")\n",
    "else:\n",
    "    print(\"a is empty\")"
   ]
  },
  {
   "cell_type": "markdown",
   "metadata": {},
   "source": [
    "`5-aug-24`\n",
    "\n",
    "if elif ladder"
   ]
  },
  {
   "cell_type": "code",
   "execution_count": null,
   "metadata": {},
   "outputs": [],
   "source": [
    "a = 15\n",
    "b = 22\n",
    "c = 10\n",
    "if a > b and a > c:\n",
    "    print(\"A is the greatest\")\n",
    "elif b > a and b > c:\n",
    "    print(\"B is the greatest\")\n",
    "else:\n",
    "    print(\"C is the greatest\")"
   ]
  },
  {
   "cell_type": "code",
   "execution_count": null,
   "metadata": {},
   "outputs": [],
   "source": [
    "marks = int(input(\"enter the marks:\"))\n",
    "if marks >= 90:\n",
    "    grade = \"A\"\n",
    "elif marks >= 75:\n",
    "    grade = \"B\"\n",
    "elif marks >= 60:\n",
    "    grade = \"C\"\n",
    "elif marks >= 50:\n",
    "    grade = \"D\"\n",
    "else:\n",
    "    grade = \"F\"\n",
    "print(f\"Students marks = {marks}\")\n",
    "print(f\"Students grade = {grade}\")"
   ]
  },
  {
   "cell_type": "markdown",
   "metadata": {},
   "source": [
    "match case"
   ]
  },
  {
   "cell_type": "code",
   "execution_count": null,
   "metadata": {},
   "outputs": [],
   "source": [
    "ans = input(\"What is the capital of India?\")\n",
    "match ans:\n",
    "    case 'Lucknow':\n",
    "        print(\"You are too stupid\")\n",
    "    case 'Delhi'|'delhi':\n",
    "        print(\"You are correct\")\n",
    "    case 'Culcutta':\n",
    "        print(\"You must be under a stone\")\n",
    "    case 'Shimla':\n",
    "        print(\"This is free India\")\n",
    "    case _:\n",
    "        print(\"You are not from India\")"
   ]
  },
  {
   "cell_type": "code",
   "execution_count": null,
   "metadata": {},
   "outputs": [],
   "source": [
    "print(\"Chai ki dukaan\")\n",
    "print(\"1. Chai 10 Rs\")\n",
    "print(\"2. Bun Makkhan 30 Rs\")\n",
    "print(\"3. Cutting 5 Rs\")\n",
    "print(\"4. Samosa 10 Rs\")\n",
    "choice = int(input(\"Enter your choice:\"))\n",
    "match choice:\n",
    "    case 1:\n",
    "        print(\"You have selected Chai\")\n",
    "    case 2:\n",
    "        print(\"You have selected Bun Makkhan\")\n",
    "    case 3:\n",
    "        print(\"You have selected Cutting\")\n",
    "    case 4:\n",
    "        print(\"You have selected Samosa\")\n",
    "    case _:\n",
    "        print(\"Kahi aur jao bhaiya\")"
   ]
  },
  {
   "cell_type": "markdown",
   "metadata": {},
   "source": [
    "## loops\n",
    "- step based loop (`for loop`)\n",
    "- condition based loop (`while loop`)\n",
    "\n",
    "for loop syntax\n",
    "```python\n",
    "for varname in iterable:\n",
    "    statement 1\n",
    "    statement 2\n",
    "    ...\n",
    "    statement n\n",
    "```\n",
    "while loop syntax\n",
    "\n",
    "```python\n",
    "while expression:\n",
    "    statement 1\n",
    "    statement 2\n",
    "    ...\n",
    "    statement n\n",
    "```\n"
   ]
  },
  {
   "cell_type": "code",
   "execution_count": null,
   "metadata": {},
   "outputs": [],
   "source": [
    "numbers =[11,22,33,54,25,26]\n",
    "for i in numbers:\n",
    "    print(i)"
   ]
  },
  {
   "cell_type": "code",
   "execution_count": null,
   "metadata": {},
   "outputs": [],
   "source": [
    "brands=['sony','apple','lenovo','samsung']\n",
    "for name in brands:\n",
    "    print(name)"
   ]
  },
  {
   "cell_type": "markdown",
   "metadata": {},
   "source": [
    "iterable\n",
    "- list\n",
    "- str\n",
    "- tuple\n",
    "- set\n",
    "- dict\n",
    "- range\n",
    "- generator"
   ]
  },
  {
   "cell_type": "code",
   "execution_count": null,
   "metadata": {},
   "outputs": [],
   "source": [
    "word = 'Journey'\n",
    "for ch in word:\n",
    "    print(ch)"
   ]
  },
  {
   "cell_type": "code",
   "execution_count": null,
   "metadata": {},
   "outputs": [],
   "source": [
    "for i in {12,52,23,34,55}:\n",
    "    print(i)"
   ]
  },
  {
   "cell_type": "markdown",
   "metadata": {},
   "source": [
    "`range` function for the `for loop`\n",
    "---\n",
    "\n",
    "`range(stop)` - 0 to stop-1\n",
    "\n",
    "`range(start, stop)` - start to stop-1\n",
    "\n",
    "`range(start, stop, step)` - start to stop-1 with step\n",
    "\n"
   ]
  },
  {
   "cell_type": "code",
   "execution_count": null,
   "metadata": {},
   "outputs": [],
   "source": [
    "for i in range(10):\n",
    "    print(i, end=' ')"
   ]
  },
  {
   "cell_type": "code",
   "execution_count": null,
   "metadata": {},
   "outputs": [],
   "source": [
    "for i in range(5, 11):\n",
    "    print(i, end=' ')"
   ]
  },
  {
   "cell_type": "code",
   "execution_count": null,
   "metadata": {},
   "outputs": [],
   "source": [
    "for i in range(5, 15, 2):\n",
    "    print(i, end=' ')"
   ]
  },
  {
   "cell_type": "code",
   "execution_count": null,
   "metadata": {},
   "outputs": [],
   "source": [
    "# reverse loop\n",
    "for i in range(10, 0, -1):\n",
    "    print(i, end=' ')"
   ]
  },
  {
   "cell_type": "code",
   "execution_count": null,
   "metadata": {},
   "outputs": [],
   "source": [
    "# sum of all number from 1 - 100\n",
    "total = 0\n",
    "for i in range(1, 101):\n",
    "    total += i\n",
    "print(total)"
   ]
  },
  {
   "cell_type": "code",
   "execution_count": null,
   "metadata": {},
   "outputs": [],
   "source": [
    "sum(list(range(1,101)))"
   ]
  },
  {
   "cell_type": "code",
   "execution_count": null,
   "metadata": {},
   "outputs": [],
   "source": [
    "# find the largest word in the list\n",
    "words = ['ben','satyam','maniratnam','roy','soham']\n",
    "word = ''\n",
    "for item in words:\n",
    "    # print(f'{word}={len(word)} and {item}={len(item)}')\n",
    "    if len(item) > len(word):\n",
    "        word = item\n",
    "        # print(f'keeping {item} into  word')\n",
    "print(word)"
   ]
  },
  {
   "cell_type": "markdown",
   "metadata": {},
   "source": [
    "break and continue"
   ]
  },
  {
   "cell_type": "code",
   "execution_count": null,
   "metadata": {},
   "outputs": [],
   "source": [
    "for i in range(10):\n",
    "    if i == 5:\n",
    "        break\n",
    "    print(i, end=' ')\n",
    "print(\"The end\")"
   ]
  },
  {
   "cell_type": "code",
   "execution_count": null,
   "metadata": {},
   "outputs": [],
   "source": [
    "data = [1,2,3,4,0,5,6,2,3]\n",
    "for i in data:\n",
    "    if i == 0:\n",
    "        print(\"We found some crap\")\n",
    "        break # stop the loop\n",
    "    print(i)"
   ]
  },
  {
   "cell_type": "code",
   "execution_count": null,
   "metadata": {},
   "outputs": [],
   "source": [
    "data = [1,2,3,4,0,5,6,2,3]\n",
    "for i in data:\n",
    "    if i == 0:\n",
    "        continue # skip to next item\n",
    "    print(i**2)"
   ]
  },
  {
   "cell_type": "markdown",
   "metadata": {},
   "source": [
    "`enumerate()`, `zip()`"
   ]
  },
  {
   "cell_type": "code",
   "execution_count": null,
   "metadata": {},
   "outputs": [],
   "source": [
    "fruits =['apple','banana','mango','orange','kiwi']\n",
    "for idx,name in enumerate(fruits):\n",
    "    print(idx, name)"
   ]
  },
  {
   "cell_type": "code",
   "execution_count": null,
   "metadata": {},
   "outputs": [],
   "source": [
    "numbers = [23,56,67,12,56]\n",
    "for idx, num in enumerate(numbers):\n",
    "    print(num*idx)"
   ]
  },
  {
   "cell_type": "code",
   "execution_count": null,
   "metadata": {},
   "outputs": [],
   "source": [
    "x = [1,2,3,4,5]\n",
    "y = [11,22,33,44,55]\n",
    "for i,j in zip(x,y):\n",
    "    print(i + j)"
   ]
  },
  {
   "cell_type": "code",
   "execution_count": null,
   "metadata": {},
   "outputs": [],
   "source": [
    "x = [1,2,3]\n",
    "y = [4,5,6]\n",
    "z = [7,8,9,10]\n",
    "w = 'jello'\n",
    "for i, j, k, l in zip(x, y, z, w):\n",
    "    print(i + j + k, l)"
   ]
  },
  {
   "cell_type": "code",
   "execution_count": 55,
   "metadata": {},
   "outputs": [
    {
     "name": "stdout",
     "output_type": "stream",
     "text": [
      "7\n"
     ]
    }
   ],
   "source": [
    "# count the number of vowels in a sentence\n",
    "sentence = \"This is a very good day\"\n",
    "count = 0\n",
    "for ch in sentence:\n",
    "    if ch in 'aeiouAEIOU':\n",
    "        count += 1\n",
    "print(count)"
   ]
  },
  {
   "cell_type": "code",
   "execution_count": null,
   "metadata": {},
   "outputs": [],
   "source": []
  }
 ],
 "metadata": {
  "kernelspec": {
   "display_name": "base",
   "language": "python",
   "name": "python3"
  },
  "language_info": {
   "codemirror_mode": {
    "name": "ipython",
    "version": 3
   },
   "file_extension": ".py",
   "mimetype": "text/x-python",
   "name": "python",
   "nbconvert_exporter": "python",
   "pygments_lexer": "ipython3",
   "version": "3.12.2"
  }
 },
 "nbformat": 4,
 "nbformat_minor": 2
}
